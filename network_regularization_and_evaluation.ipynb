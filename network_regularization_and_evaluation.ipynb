{
 "cells": [
  {
   "cell_type": "markdown",
   "metadata": {
    "slideshow": {
     "slide_type": "slide"
    }
   },
   "source": [
    "# Regularization and Evaluation of Neural Networks"
   ]
  },
  {
   "cell_type": "code",
   "execution_count": 1,
   "metadata": {},
   "outputs": [],
   "source": [
    "from sklearn.datasets import load_sample_images\n",
    "from sklearn.datasets import load_digits\n",
    "from sklearn.model_selection import train_test_split, cross_val_score\n",
    "from sklearn.preprocessing import OneHotEncoder\n",
    "from sklearn.metrics import accuracy_score, confusion_matrix\n",
    "import matplotlib.pyplot as plt\n",
    "import matplotlib.image as mpimg\n",
    "import numpy as np\n",
    "import seaborn as sns\n",
    "\n",
    "from tensorflow.keras.models import Sequential\n",
    "from tensorflow.keras.layers import Dense, Dropout\n",
    "from tensorflow.keras.regularizers import l2\n",
    "from tensorflow.keras.optimizers import SGD\n",
    "from tensorflow.keras.wrappers import scikit_learn\n",
    "from tensorflow.keras.callbacks import EarlyStopping\n",
    "\n",
    "import os\n",
    "import sys\n",
    "module_path = os.path.abspath(os.path.join(os.pardir, os.pardir))\n",
    "if module_path not in sys.path:\n",
    "    sys.path.append(module_path)\n",
    "    \n",
    "%load_ext autoreload\n",
    "%autoreload 2"
   ]
  },
  {
   "cell_type": "markdown",
   "metadata": {},
   "source": [
    "## Learning Objectives\n",
    "\n",
    "- use `keras` to code up a neural network model;\n",
    "- explain dropout and early stopping as distinctive forms of regularization in neural networks;\n",
    "- use wrappers inside `keras` to make models that can jibe with `sklearn`."
   ]
  },
  {
   "cell_type": "markdown",
   "metadata": {},
   "source": [
    "### From last time"
   ]
  },
  {
   "cell_type": "code",
   "execution_count": 2,
   "metadata": {},
   "outputs": [],
   "source": [
    "digits = load_digits()\n",
    "X = digits.data\n",
    "y = digits.target\n",
    "\n",
    "y_binary = y % 2"
   ]
  },
  {
   "cell_type": "code",
   "execution_count": 3,
   "metadata": {},
   "outputs": [
    {
     "name": "stdout",
     "output_type": "stream",
     "text": [
      "Epoch 1/50\n",
      "180/180 [==============================] - 1s 1ms/step - loss: 0.6233 - accuracy: 0.7190\n",
      "Epoch 2/50\n",
      "180/180 [==============================] - 0s 1ms/step - loss: 0.2983 - accuracy: 0.8776\n",
      "Epoch 3/50\n",
      "180/180 [==============================] - 0s 1ms/step - loss: 0.2199 - accuracy: 0.9188\n",
      "Epoch 4/50\n",
      "180/180 [==============================] - 0s 1ms/step - loss: 0.1732 - accuracy: 0.9316\n",
      "Epoch 5/50\n",
      "180/180 [==============================] - 0s 998us/step - loss: 0.1429 - accuracy: 0.9488\n",
      "Epoch 6/50\n",
      "180/180 [==============================] - 0s 959us/step - loss: 0.1287 - accuracy: 0.9482\n",
      "Epoch 7/50\n",
      "180/180 [==============================] - 0s 1ms/step - loss: 0.1035 - accuracy: 0.9560\n",
      "Epoch 8/50\n",
      "180/180 [==============================] - 0s 1ms/step - loss: 0.0919 - accuracy: 0.9655\n",
      "Epoch 9/50\n",
      "180/180 [==============================] - 0s 1ms/step - loss: 0.0816 - accuracy: 0.9705\n",
      "Epoch 10/50\n",
      "180/180 [==============================] - 0s 1ms/step - loss: 0.0700 - accuracy: 0.9738\n",
      "Epoch 11/50\n",
      "180/180 [==============================] - 0s 1ms/step - loss: 0.0583 - accuracy: 0.9811\n",
      "Epoch 12/50\n",
      "180/180 [==============================] - 0s 964us/step - loss: 0.0532 - accuracy: 0.9805\n",
      "Epoch 13/50\n",
      "180/180 [==============================] - 0s 1ms/step - loss: 0.0519 - accuracy: 0.9805\n",
      "Epoch 14/50\n",
      "180/180 [==============================] - 0s 1ms/step - loss: 0.0453 - accuracy: 0.9811\n",
      "Epoch 15/50\n",
      "180/180 [==============================] - 0s 1ms/step - loss: 0.0396 - accuracy: 0.9861\n",
      "Epoch 16/50\n",
      "180/180 [==============================] - 0s 931us/step - loss: 0.0369 - accuracy: 0.9866\n",
      "Epoch 17/50\n",
      "180/180 [==============================] - 0s 909us/step - loss: 0.0311 - accuracy: 0.9883\n",
      "Epoch 18/50\n",
      "180/180 [==============================] - 0s 876us/step - loss: 0.0294 - accuracy: 0.9900\n",
      "Epoch 19/50\n",
      "180/180 [==============================] - 0s 973us/step - loss: 0.0265 - accuracy: 0.9905\n",
      "Epoch 20/50\n",
      "180/180 [==============================] - 0s 931us/step - loss: 0.0239 - accuracy: 0.9905\n",
      "Epoch 21/50\n",
      "180/180 [==============================] - 0s 878us/step - loss: 0.0256 - accuracy: 0.9905\n",
      "Epoch 22/50\n",
      "180/180 [==============================] - 0s 892us/step - loss: 0.0188 - accuracy: 0.9922\n",
      "Epoch 23/50\n",
      "180/180 [==============================] - 0s 914us/step - loss: 0.0183 - accuracy: 0.9950\n",
      "Epoch 24/50\n",
      "180/180 [==============================] - 0s 884us/step - loss: 0.0187 - accuracy: 0.9933\n",
      "Epoch 25/50\n",
      "180/180 [==============================] - 0s 1ms/step - loss: 0.0160 - accuracy: 0.9944\n",
      "Epoch 26/50\n",
      "180/180 [==============================] - 0s 1ms/step - loss: 0.0141 - accuracy: 0.9961\n",
      "Epoch 27/50\n",
      "180/180 [==============================] - 0s 1ms/step - loss: 0.0165 - accuracy: 0.9939\n",
      "Epoch 28/50\n",
      "180/180 [==============================] - 0s 878us/step - loss: 0.0162 - accuracy: 0.9950\n",
      "Epoch 29/50\n",
      "180/180 [==============================] - 0s 1ms/step - loss: 0.0135 - accuracy: 0.9939\n",
      "Epoch 30/50\n",
      "180/180 [==============================] - 0s 1ms/step - loss: 0.0132 - accuracy: 0.9955\n",
      "Epoch 31/50\n",
      "180/180 [==============================] - 0s 970us/step - loss: 0.0102 - accuracy: 0.9961\n",
      "Epoch 32/50\n",
      "180/180 [==============================] - 0s 917us/step - loss: 0.0099 - accuracy: 0.9978\n",
      "Epoch 33/50\n",
      "180/180 [==============================] - 0s 914us/step - loss: 0.0114 - accuracy: 0.9967\n",
      "Epoch 34/50\n",
      "180/180 [==============================] - 0s 898us/step - loss: 0.0087 - accuracy: 0.9983\n",
      "Epoch 35/50\n",
      "180/180 [==============================] - 0s 970us/step - loss: 0.0077 - accuracy: 0.9978\n",
      "Epoch 36/50\n",
      "180/180 [==============================] - 0s 1ms/step - loss: 0.0057 - accuracy: 0.9983\n",
      "Epoch 37/50\n",
      "180/180 [==============================] - 0s 984us/step - loss: 0.0054 - accuracy: 0.9989\n",
      "Epoch 38/50\n",
      "180/180 [==============================] - 0s 920us/step - loss: 0.0066 - accuracy: 0.9989\n",
      "Epoch 39/50\n",
      "180/180 [==============================] - 0s 906us/step - loss: 0.0065 - accuracy: 0.9989\n",
      "Epoch 40/50\n",
      "180/180 [==============================] - 0s 906us/step - loss: 0.0056 - accuracy: 0.9989\n",
      "Epoch 41/50\n",
      "180/180 [==============================] - 0s 876us/step - loss: 0.0060 - accuracy: 0.9978\n",
      "Epoch 42/50\n",
      "180/180 [==============================] - 0s 942us/step - loss: 0.0043 - accuracy: 0.9983\n",
      "Epoch 43/50\n",
      "180/180 [==============================] - 0s 895us/step - loss: 0.0046 - accuracy: 0.9983\n",
      "Epoch 44/50\n",
      "180/180 [==============================] - 0s 867us/step - loss: 0.0058 - accuracy: 0.9978\n",
      "Epoch 45/50\n",
      "180/180 [==============================] - 0s 917us/step - loss: 0.0044 - accuracy: 0.9989\n",
      "Epoch 46/50\n",
      "180/180 [==============================] - 0s 920us/step - loss: 0.0028 - accuracy: 0.9994\n",
      "Epoch 47/50\n",
      "180/180 [==============================] - 0s 876us/step - loss: 0.0040 - accuracy: 0.9989\n",
      "Epoch 48/50\n",
      "180/180 [==============================] - 0s 934us/step - loss: 0.0042 - accuracy: 0.9983\n",
      "Epoch 49/50\n",
      "180/180 [==============================] - 0s 901us/step - loss: 0.0036 - accuracy: 0.9994\n",
      "Epoch 50/50\n",
      "180/180 [==============================] - 0s 917us/step - loss: 0.0026 - accuracy: 0.9994\n"
     ]
    },
    {
     "data": {
      "text/plain": [
       "<keras.callbacks.History at 0x1de8eb4bb80>"
      ]
     },
     "execution_count": 3,
     "metadata": {},
     "output_type": "execute_result"
    }
   ],
   "source": [
    "model = Sequential()\n",
    "model.add(Dense(12, activation='relu', input_dim=64))\n",
    "model.add(Dense(8, activation='relu'))\n",
    "model.add(Dense(1, activation='sigmoid'))\n",
    "\n",
    "model.compile(optimizer='rmsprop',\n",
    "              loss='binary_crossentropy',\n",
    "              metrics=['accuracy'])\n",
    "\n",
    "model.fit(X, y_binary, epochs=50, batch_size=10)"
   ]
  },
  {
   "cell_type": "markdown",
   "metadata": {},
   "source": [
    "### Things to know:\n",
    "\n",
    "- The data and labels in `fit()` need to be numpy arrays, not `pandas` dfs.\n",
    "- Scaling your data will have a large impact on your model.\n",
    "   > For our traditional input features, we would use a scaler object. For images, as long as the minimum value is 0, we can simply divide through by the maximum pixel intensity."
   ]
  },
  {
   "cell_type": "markdown",
   "metadata": {},
   "source": [
    "#### Getting data ready for modeling\n",
    "**Preprocessing**:\n",
    "\n",
    "- use train_test_split to create X_train, y_train, X_test, and y_test\n",
    "- Split training data into pure_train and validation sets.\n",
    "- Scale the pixel intensity to a value between 0 and 1."
   ]
  },
  {
   "cell_type": "markdown",
   "metadata": {},
   "source": [
    "Scaling our input variables will help speed up our neural network.\n",
    "\n",
    "Since our minimum intensity is 0, we can normalize the inputs by dividing each value by the max value (16)."
   ]
  },
  {
   "cell_type": "code",
   "execution_count": 4,
   "metadata": {},
   "outputs": [],
   "source": [
    "X_train, X_test, y_train, y_test =\\\n",
    "    train_test_split(X, y_binary, random_state=42, test_size=0.2)\n",
    "\n",
    "X_pure_train, X_val, y_pure_train, y_val =\\\n",
    "    train_test_split(X_train, y_train, random_state=42, test_size=0.2)\n",
    "\n",
    "X_pure_train, X_val, X_test = X_pure_train/16, X_val/16, X_test/16"
   ]
  },
  {
   "cell_type": "markdown",
   "metadata": {},
   "source": [
    "For activation, let's start with the familiar sigmoid function, and see how it performs."
   ]
  },
  {
   "cell_type": "code",
   "execution_count": 5,
   "metadata": {},
   "outputs": [
    {
     "name": "stdout",
     "output_type": "stream",
     "text": [
      "Epoch 1/10\n",
      "12/12 [==============================] - 0s 1ms/step - loss: 0.7617 - accuracy: 0.5039\n",
      "Epoch 2/10\n",
      "12/12 [==============================] - 0s 1ms/step - loss: 0.7496 - accuracy: 0.5039\n",
      "Epoch 3/10\n",
      "12/12 [==============================] - 0s 1ms/step - loss: 0.7395 - accuracy: 0.5039\n",
      "Epoch 4/10\n",
      "12/12 [==============================] - 0s 1ms/step - loss: 0.7316 - accuracy: 0.5039\n",
      "Epoch 5/10\n",
      "12/12 [==============================] - 0s 1ms/step - loss: 0.7248 - accuracy: 0.5039\n",
      "Epoch 6/10\n",
      "12/12 [==============================] - 0s 1ms/step - loss: 0.7192 - accuracy: 0.5039\n",
      "Epoch 7/10\n",
      "12/12 [==============================] - 0s 1ms/step - loss: 0.7145 - accuracy: 0.5039\n",
      "Epoch 8/10\n",
      "12/12 [==============================] - 0s 1ms/step - loss: 0.7108 - accuracy: 0.5039\n",
      "Epoch 9/10\n",
      "12/12 [==============================] - 0s 1ms/step - loss: 0.7076 - accuracy: 0.5039\n",
      "Epoch 10/10\n",
      "12/12 [==============================] - 0s 1ms/step - loss: 0.7052 - accuracy: 0.5039\n"
     ]
    }
   ],
   "source": [
    "model = Sequential()\n",
    "# We will start with our trusty sigmoid function.\n",
    "# What does input dimension correspond to?\n",
    "model.add(Dense(12, activation='sigmoid', input_dim=64))\n",
    "model.add(Dense(8, activation='sigmoid'))\n",
    "model.add(Dense(1, activation='sigmoid'))\n",
    "\n",
    "model.compile(optimizer='SGD' ,\n",
    "              # We use binary_crossentropy for a binary loss function\n",
    "              loss='binary_crossentropy',\n",
    "              metrics=['accuracy'])\n",
    "\n",
    "# Assign the variable history to store the results,\n",
    "# and set verbose=1 so we can see the output. To see\n",
    "# only the metrics at the end of each epoch, set verbose=2.\n",
    "results = model.fit(X_pure_train, y_pure_train, epochs=10, batch_size=100, verbose=1)"
   ]
  },
  {
   "cell_type": "markdown",
   "metadata": {},
   "source": [
    "We can access the history of our model via `results.history`.\n",
    "Use __dict__ to take a tour."
   ]
  },
  {
   "cell_type": "code",
   "execution_count": 12,
   "metadata": {},
   "outputs": [
    {
     "data": {
      "text/plain": [
       "{'loss': [0.7617079615592957,\n",
       "  0.7495717406272888,\n",
       "  0.7395158410072327,\n",
       "  0.7315844297409058,\n",
       "  0.7248286604881287,\n",
       "  0.7192235589027405,\n",
       "  0.7145397067070007,\n",
       "  0.710762083530426,\n",
       "  0.7076036930084229,\n",
       "  0.7051884531974792],\n",
       " 'accuracy': [0.5039164423942566,\n",
       "  0.5039164423942566,\n",
       "  0.5039164423942566,\n",
       "  0.5039164423942566,\n",
       "  0.5039164423942566,\n",
       "  0.5039164423942566,\n",
       "  0.5039164423942566,\n",
       "  0.5039164423942566,\n",
       "  0.5039164423942566,\n",
       "  0.5039164423942566]}"
      ]
     },
     "execution_count": 12,
     "metadata": {},
     "output_type": "execute_result"
    }
   ],
   "source": [
    "results.history"
   ]
  },
  {
   "cell_type": "code",
   "execution_count": 13,
   "metadata": {},
   "outputs": [
    {
     "data": {
      "image/png": "[encoded data removed]",
      "text/plain": [
       "<Figure size 720x360 with 2 Axes>"
      ]
     },
     "metadata": {
      "needs_background": "light"
     },
     "output_type": "display_data"
    }
   ],
   "source": [
    "sigmoid_loss = results.history['loss']\n",
    "sigmoid_accuracy = results.history['accuracy']\n",
    "\n",
    "fig, (ax1, ax2) = plt.subplots(1, 2, figsize=(10, 5))\n",
    "sns.lineplot(x=results.epoch, y=sigmoid_loss, ax=ax1, label='loss')\n",
    "sns.lineplot(x=results.epoch, y=sigmoid_accuracy, ax=ax2, label='accuracy');"
   ]
  },
  {
   "cell_type": "markdown",
   "metadata": {},
   "source": [
    "We have two plots above both relating to the quality of our model.  The left-hand plot is our loss. It uses the probabilities associated with our predictions to judge how well our prediction fits reality. We want it to decrease as far as possible.\n",
    "\n",
    "The accuracy judges how well the predictions are after applying the threshold at the output layer.  We want accuracy to increase."
   ]
  },
  {
   "cell_type": "markdown",
   "metadata": {},
   "source": [
    "If we look at our loss, it is still decreasing. That is a signal that our model is **still learning**. If our model is still learning, we can allow it to get better by turning a few dials.\n",
    "\n",
    "Let's:\n",
    "- increase the number of epochs;\n",
    "- change sigmoid activation in the hidden layers to ReLU; and\n",
    "- decrease the batch size."
   ]
  },
  {
   "cell_type": "code",
   "execution_count": 14,
   "metadata": {},
   "outputs": [
    {
     "data": {
      "text/plain": [
       "1149"
      ]
     },
     "execution_count": 14,
     "metadata": {},
     "output_type": "execute_result"
    }
   ],
   "source": [
    "X_pure_train.shape[0]"
   ]
  },
  {
   "cell_type": "code",
   "execution_count": 15,
   "metadata": {},
   "outputs": [
    {
     "name": "stdout",
     "output_type": "stream",
     "text": [
      "Epoch 1/100\n",
      "36/36 [==============================] - 0s 1ms/step - loss: 0.7003 - accuracy: 0.4961\n",
      "Epoch 2/100\n",
      "36/36 [==============================] - 0s 1ms/step - loss: 0.6717 - accuracy: 0.4970\n",
      "Epoch 3/100\n",
      "36/36 [==============================] - 0s 1ms/step - loss: 0.6581 - accuracy: 0.5178\n",
      "Epoch 4/100\n",
      "36/36 [==============================] - 0s 1ms/step - loss: 0.6458 - accuracy: 0.5614\n",
      "Epoch 5/100\n",
      "36/36 [==============================] - 0s 1ms/step - loss: 0.6332 - accuracy: 0.6084\n",
      "Epoch 6/100\n",
      "36/36 [==============================] - 0s 992us/step - loss: 0.6203 - accuracy: 0.6571\n",
      "Epoch 7/100\n",
      "36/36 [==============================] - 0s 1ms/step - loss: 0.6080 - accuracy: 0.6980\n",
      "Epoch 8/100\n",
      "36/36 [==============================] - 0s 1ms/step - loss: 0.5952 - accuracy: 0.7258\n",
      "Epoch 9/100\n",
      "36/36 [==============================] - 0s 1ms/step - loss: 0.5824 - accuracy: 0.7415\n",
      "Epoch 10/100\n",
      "36/36 [==============================] - 0s 921us/step - loss: 0.5696 - accuracy: 0.7624\n",
      "Epoch 11/100\n",
      "36/36 [==============================] - 0s 1ms/step - loss: 0.5570 - accuracy: 0.7728\n",
      "Epoch 12/100\n",
      "36/36 [==============================] - 0s 1ms/step - loss: 0.5445 - accuracy: 0.7815\n",
      "Epoch 13/100\n",
      "36/36 [==============================] - 0s 907us/step - loss: 0.5318 - accuracy: 0.7955\n",
      "Epoch 14/100\n",
      "36/36 [==============================] - 0s 935us/step - loss: 0.5196 - accuracy: 0.8129\n",
      "Epoch 15/100\n",
      "36/36 [==============================] - 0s 1ms/step - loss: 0.5072 - accuracy: 0.8216\n",
      "Epoch 16/100\n",
      "36/36 [==============================] - 0s 1ms/step - loss: 0.4951 - accuracy: 0.8372\n",
      "Epoch 17/100\n",
      "36/36 [==============================] - 0s 1ms/step - loss: 0.4836 - accuracy: 0.8425\n",
      "Epoch 18/100\n",
      "36/36 [==============================] - 0s 1ms/step - loss: 0.4719 - accuracy: 0.8494\n",
      "Epoch 19/100\n",
      "36/36 [==============================] - 0s 2ms/step - loss: 0.4603 - accuracy: 0.8581\n",
      "Epoch 20/100\n",
      "36/36 [==============================] - 0s 992us/step - loss: 0.4495 - accuracy: 0.8599\n",
      "Epoch 21/100\n",
      "36/36 [==============================] - 0s 978us/step - loss: 0.4386 - accuracy: 0.8634\n",
      "Epoch 22/100\n",
      "36/36 [==============================] - 0s 1ms/step - loss: 0.4284 - accuracy: 0.8721\n",
      "Epoch 23/100\n",
      "36/36 [==============================] - 0s 992us/step - loss: 0.4179 - accuracy: 0.8808\n",
      "Epoch 24/100\n",
      "36/36 [==============================] - 0s 1ms/step - loss: 0.4081 - accuracy: 0.8825\n",
      "Epoch 25/100\n",
      "36/36 [==============================] - 0s 1ms/step - loss: 0.3984 - accuracy: 0.8895\n",
      "Epoch 26/100\n",
      "36/36 [==============================] - 0s 1ms/step - loss: 0.3888 - accuracy: 0.8903\n",
      "Epoch 27/100\n",
      "36/36 [==============================] - 0s 1ms/step - loss: 0.3801 - accuracy: 0.9008\n",
      "Epoch 28/100\n",
      "36/36 [==============================] - 0s 1ms/step - loss: 0.3713 - accuracy: 0.9043\n",
      "Epoch 29/100\n",
      "36/36 [==============================] - 0s 1ms/step - loss: 0.3630 - accuracy: 0.9017\n",
      "Epoch 30/100\n",
      "36/36 [==============================] - 0s 2ms/step - loss: 0.3545 - accuracy: 0.9051\n",
      "Epoch 31/100\n",
      "36/36 [==============================] - 0s 2ms/step - loss: 0.3461 - accuracy: 0.9043\n",
      "Epoch 32/100\n",
      "36/36 [==============================] - 0s 2ms/step - loss: 0.3370 - accuracy: 0.9077\n",
      "Epoch 33/100\n",
      "36/36 [==============================] - 0s 1ms/step - loss: 0.3282 - accuracy: 0.9060\n",
      "Epoch 34/100\n",
      "36/36 [==============================] - 0s 992us/step - loss: 0.3195 - accuracy: 0.9051\n",
      "Epoch 35/100\n",
      "36/36 [==============================] - 0s 1ms/step - loss: 0.3104 - accuracy: 0.9095\n",
      "Epoch 36/100\n",
      "36/36 [==============================] - 0s 978us/step - loss: 0.3026 - accuracy: 0.9077\n",
      "Epoch 37/100\n",
      "36/36 [==============================] - 0s 1ms/step - loss: 0.2939 - accuracy: 0.9104\n",
      "Epoch 38/100\n",
      "36/36 [==============================] - 0s 1ms/step - loss: 0.2859 - accuracy: 0.9112\n",
      "Epoch 39/100\n",
      "36/36 [==============================] - 0s 992us/step - loss: 0.2789 - accuracy: 0.9138\n",
      "Epoch 40/100\n",
      "36/36 [==============================] - 0s 1ms/step - loss: 0.2713 - accuracy: 0.9112\n",
      "Epoch 41/100\n",
      "36/36 [==============================] - 0s 1ms/step - loss: 0.2640 - accuracy: 0.9112\n",
      "Epoch 42/100\n",
      "36/36 [==============================] - 0s 1ms/step - loss: 0.2581 - accuracy: 0.9138\n",
      "Epoch 43/100\n",
      "36/36 [==============================] - 0s 2ms/step - loss: 0.2509 - accuracy: 0.9164\n",
      "Epoch 44/100\n",
      "36/36 [==============================] - 0s 1ms/step - loss: 0.2450 - accuracy: 0.9147\n",
      "Epoch 45/100\n",
      "36/36 [==============================] - 0s 1ms/step - loss: 0.2391 - accuracy: 0.9173\n",
      "Epoch 46/100\n",
      "36/36 [==============================] - 0s 1ms/step - loss: 0.2331 - accuracy: 0.9191\n",
      "Epoch 47/100\n",
      "36/36 [==============================] - 0s 2ms/step - loss: 0.2276 - accuracy: 0.9173\n",
      "Epoch 48/100\n",
      "36/36 [==============================] - 0s 1ms/step - loss: 0.2221 - accuracy: 0.9208\n",
      "Epoch 49/100\n",
      "36/36 [==============================] - 0s 1ms/step - loss: 0.2183 - accuracy: 0.9199\n",
      "Epoch 50/100\n",
      "36/36 [==============================] - 0s 1ms/step - loss: 0.2121 - accuracy: 0.9252\n",
      "Epoch 51/100\n",
      "36/36 [==============================] - 0s 1ms/step - loss: 0.2077 - accuracy: 0.9269\n",
      "Epoch 52/100\n",
      "36/36 [==============================] - 0s 1ms/step - loss: 0.2032 - accuracy: 0.9225\n",
      "Epoch 53/100\n",
      "36/36 [==============================] - 0s 1ms/step - loss: 0.1989 - accuracy: 0.9295\n",
      "Epoch 54/100\n",
      "36/36 [==============================] - 0s 893us/step - loss: 0.1948 - accuracy: 0.9295\n",
      "Epoch 55/100\n",
      "36/36 [==============================] - 0s 1ms/step - loss: 0.1909 - accuracy: 0.9321\n",
      "Epoch 56/100\n",
      "36/36 [==============================] - 0s 1ms/step - loss: 0.1880 - accuracy: 0.9347\n",
      "Epoch 57/100\n",
      "36/36 [==============================] - 0s 2ms/step - loss: 0.1834 - accuracy: 0.9321\n",
      "Epoch 58/100\n",
      "36/36 [==============================] - 0s 1ms/step - loss: 0.1800 - accuracy: 0.9373\n",
      "Epoch 59/100\n",
      "36/36 [==============================] - 0s 978us/step - loss: 0.1767 - accuracy: 0.9347\n",
      "Epoch 60/100\n",
      "36/36 [==============================] - 0s 964us/step - loss: 0.1734 - accuracy: 0.9347\n",
      "Epoch 61/100\n",
      "36/36 [==============================] - 0s 964us/step - loss: 0.1703 - accuracy: 0.9382\n",
      "Epoch 62/100\n",
      "36/36 [==============================] - 0s 1ms/step - loss: 0.1673 - accuracy: 0.9399\n",
      "Epoch 63/100\n",
      "36/36 [==============================] - 0s 1ms/step - loss: 0.1646 - accuracy: 0.9434\n",
      "Epoch 64/100\n",
      "36/36 [==============================] - 0s 921us/step - loss: 0.1615 - accuracy: 0.9434\n",
      "Epoch 65/100\n",
      "36/36 [==============================] - 0s 935us/step - loss: 0.1593 - accuracy: 0.9399\n",
      "Epoch 66/100\n",
      "36/36 [==============================] - 0s 1ms/step - loss: 0.1566 - accuracy: 0.9399\n",
      "Epoch 67/100\n",
      "36/36 [==============================] - 0s 978us/step - loss: 0.1546 - accuracy: 0.9434\n",
      "Epoch 68/100\n",
      "36/36 [==============================] - 0s 1ms/step - loss: 0.1521 - accuracy: 0.9408\n",
      "Epoch 69/100\n",
      "36/36 [==============================] - 0s 992us/step - loss: 0.1492 - accuracy: 0.9460\n",
      "Epoch 70/100\n",
      "36/36 [==============================] - 0s 935us/step - loss: 0.1468 - accuracy: 0.9452\n",
      "Epoch 71/100\n",
      "36/36 [==============================] - 0s 992us/step - loss: 0.1455 - accuracy: 0.9478\n",
      "Epoch 72/100\n",
      "36/36 [==============================] - 0s 1ms/step - loss: 0.1428 - accuracy: 0.9434\n",
      "Epoch 73/100\n",
      "36/36 [==============================] - 0s 978us/step - loss: 0.1403 - accuracy: 0.9452\n",
      "Epoch 74/100\n",
      "36/36 [==============================] - 0s 1ms/step - loss: 0.1383 - accuracy: 0.9478\n",
      "Epoch 75/100\n",
      "36/36 [==============================] - 0s 978us/step - loss: 0.1366 - accuracy: 0.9487\n",
      "Epoch 76/100\n",
      "36/36 [==============================] - 0s 1ms/step - loss: 0.1345 - accuracy: 0.9521\n",
      "Epoch 77/100\n",
      "36/36 [==============================] - 0s 1ms/step - loss: 0.1334 - accuracy: 0.9556\n",
      "Epoch 78/100\n",
      "36/36 [==============================] - 0s 1ms/step - loss: 0.1309 - accuracy: 0.9547\n",
      "Epoch 79/100\n",
      "36/36 [==============================] - 0s 879us/step - loss: 0.1287 - accuracy: 0.9547\n",
      "Epoch 80/100\n",
      "36/36 [==============================] - 0s 935us/step - loss: 0.1285 - accuracy: 0.9582\n",
      "Epoch 81/100\n",
      "36/36 [==============================] - 0s 879us/step - loss: 0.1249 - accuracy: 0.9591\n",
      "Epoch 82/100\n"
     ]
    },
    {
     "name": "stdout",
     "output_type": "stream",
     "text": [
      "36/36 [==============================] - 0s 949us/step - loss: 0.1246 - accuracy: 0.9600\n",
      "Epoch 83/100\n",
      "36/36 [==============================] - 0s 921us/step - loss: 0.1233 - accuracy: 0.9600\n",
      "Epoch 84/100\n",
      "36/36 [==============================] - 0s 921us/step - loss: 0.1217 - accuracy: 0.9617\n",
      "Epoch 85/100\n",
      "36/36 [==============================] - 0s 907us/step - loss: 0.1206 - accuracy: 0.9608\n",
      "Epoch 86/100\n",
      "36/36 [==============================] - 0s 921us/step - loss: 0.1183 - accuracy: 0.9626\n",
      "Epoch 87/100\n",
      "36/36 [==============================] - 0s 949us/step - loss: 0.1175 - accuracy: 0.9617\n",
      "Epoch 88/100\n",
      "36/36 [==============================] - 0s 1ms/step - loss: 0.1157 - accuracy: 0.9643\n",
      "Epoch 89/100\n",
      "36/36 [==============================] - 0s 1ms/step - loss: 0.1145 - accuracy: 0.9652\n",
      "Epoch 90/100\n",
      "36/36 [==============================] - 0s 1ms/step - loss: 0.1126 - accuracy: 0.9652\n",
      "Epoch 91/100\n",
      "36/36 [==============================] - 0s 992us/step - loss: 0.1117 - accuracy: 0.9643\n",
      "Epoch 92/100\n",
      "36/36 [==============================] - 0s 1ms/step - loss: 0.1102 - accuracy: 0.9687\n",
      "Epoch 93/100\n",
      "36/36 [==============================] - 0s 964us/step - loss: 0.1091 - accuracy: 0.9661\n",
      "Epoch 94/100\n",
      "36/36 [==============================] - 0s 992us/step - loss: 0.1084 - accuracy: 0.9652\n",
      "Epoch 95/100\n",
      "36/36 [==============================] - 0s 1ms/step - loss: 0.1069 - accuracy: 0.9687\n",
      "Epoch 96/100\n",
      "36/36 [==============================] - 0s 992us/step - loss: 0.1065 - accuracy: 0.9678\n",
      "Epoch 97/100\n",
      "36/36 [==============================] - 0s 1ms/step - loss: 0.1046 - accuracy: 0.9678\n",
      "Epoch 98/100\n",
      "36/36 [==============================] - 0s 1ms/step - loss: 0.1034 - accuracy: 0.9695\n",
      "Epoch 99/100\n",
      "36/36 [==============================] - 0s 1ms/step - loss: 0.1037 - accuracy: 0.9678\n",
      "Epoch 100/100\n",
      "36/36 [==============================] - 0s 949us/step - loss: 0.1013 - accuracy: 0.9704\n"
     ]
    }
   ],
   "source": [
    "model = Sequential()\n",
    "model.add(Dense(12, activation='relu', input_dim=64))\n",
    "model.add(Dense(8, activation='relu'))\n",
    "model.add(Dense(1, activation='sigmoid'))\n",
    "\n",
    "model.compile(optimizer='SGD',\n",
    "              loss='binary_crossentropy',\n",
    "              metrics=['accuracy'])\n",
    "\n",
    "# Assign the variable history to store the results,\n",
    "# and set verbose=1 so we can see the output.\n",
    "results = model.fit(X_pure_train, y_pure_train, epochs=100, batch_size=None, verbose=1)"
   ]
  },
  {
   "cell_type": "code",
   "execution_count": 16,
   "metadata": {},
   "outputs": [
    {
     "data": {
      "image/png": "[encoded data removed]",
      "text/plain": [
       "<Figure size 720x360 with 2 Axes>"
      ]
     },
     "metadata": {
      "needs_background": "light"
     },
     "output_type": "display_data"
    }
   ],
   "source": [
    "sigmoid_loss = results.history['loss']\n",
    "sigmoid_accuracy = results.history['accuracy']\n",
    "\n",
    "fig, (ax1, ax2) = plt.subplots(1,2, figsize=(10,5))\n",
    "sns.lineplot(x=results.epoch, y=sigmoid_loss, ax=ax1, label='loss')\n",
    "sns.lineplot(x=results.epoch, y=sigmoid_accuracy, ax=ax2, label='accuracy');"
   ]
  },
  {
   "cell_type": "markdown",
   "metadata": {},
   "source": [
    "If we increase the learning rate to a very high number, we see that our model overshoots the minimum, and starts bouncing all around."
   ]
  },
  {
   "cell_type": "code",
   "execution_count": 20,
   "metadata": {},
   "outputs": [
    {
     "name": "stdout",
     "output_type": "stream",
     "text": [
      "Epoch 1/30\n"
     ]
    },
    {
     "name": "stderr",
     "output_type": "stream",
     "text": [
      "C:\\Users\\brtra\\anaconda3\\lib\\site-packages\\keras\\optimizer_v2\\gradient_descent.py:102: UserWarning: The `lr` argument is deprecated, use `learning_rate` instead.\n",
      "  super(SGD, self).__init__(name, **kwargs)\n"
     ]
    },
    {
     "name": "stdout",
     "output_type": "stream",
     "text": [
      "115/115 [==============================] - 0s 985us/step - loss: 0.5837 - accuracy: 0.7398\n",
      "Epoch 2/30\n",
      "115/115 [==============================] - 0s 1ms/step - loss: 0.4920 - accuracy: 0.7876\n",
      "Epoch 3/30\n",
      "115/115 [==============================] - 0s 1ms/step - loss: 0.4252 - accuracy: 0.8138\n",
      "Epoch 4/30\n",
      "115/115 [==============================] - 0s 1ms/step - loss: 0.3794 - accuracy: 0.8399\n",
      "Epoch 5/30\n",
      "115/115 [==============================] - 0s 927us/step - loss: 0.3481 - accuracy: 0.8486\n",
      "Epoch 6/30\n",
      "115/115 [==============================] - 0s 1ms/step - loss: 0.3254 - accuracy: 0.8564\n",
      "Epoch 7/30\n",
      "115/115 [==============================] - 0s 1ms/step - loss: 0.3039 - accuracy: 0.8677\n",
      "Epoch 8/30\n",
      "115/115 [==============================] - 0s 1ms/step - loss: 0.2855 - accuracy: 0.8773\n",
      "Epoch 9/30\n",
      "115/115 [==============================] - 0s 896us/step - loss: 0.2750 - accuracy: 0.8851\n",
      "Epoch 10/30\n",
      "115/115 [==============================] - 0s 866us/step - loss: 0.2618 - accuracy: 0.8903\n",
      "Epoch 11/30\n",
      "115/115 [==============================] - 0s 844us/step - loss: 0.2526 - accuracy: 0.8930\n",
      "Epoch 12/30\n",
      "115/115 [==============================] - 0s 957us/step - loss: 0.2464 - accuracy: 0.8973\n",
      "Epoch 13/30\n",
      "115/115 [==============================] - 0s 962us/step - loss: 0.2371 - accuracy: 0.8973\n",
      "Epoch 14/30\n",
      "115/115 [==============================] - 0s 975us/step - loss: 0.2290 - accuracy: 0.9025\n",
      "Epoch 15/30\n",
      "115/115 [==============================] - 0s 957us/step - loss: 0.2241 - accuracy: 0.9069\n",
      "Epoch 16/30\n",
      "115/115 [==============================] - 0s 875us/step - loss: 0.2171 - accuracy: 0.9043\n",
      "Epoch 17/30\n",
      "115/115 [==============================] - 0s 1ms/step - loss: 0.2142 - accuracy: 0.9060\n",
      "Epoch 18/30\n",
      "115/115 [==============================] - 0s 853us/step - loss: 0.2094 - accuracy: 0.9051\n",
      "Epoch 19/30\n",
      "115/115 [==============================] - 0s 857us/step - loss: 0.2044 - accuracy: 0.9095\n",
      "Epoch 20/30\n",
      "115/115 [==============================] - 0s 875us/step - loss: 0.2023 - accuracy: 0.9104\n",
      "Epoch 21/30\n",
      "115/115 [==============================] - 0s 853us/step - loss: 0.1988 - accuracy: 0.9130\n",
      "Epoch 22/30\n",
      "115/115 [==============================] - 0s 866us/step - loss: 0.1944 - accuracy: 0.9086\n",
      "Epoch 23/30\n",
      "115/115 [==============================] - 0s 857us/step - loss: 0.1903 - accuracy: 0.9095\n",
      "Epoch 24/30\n",
      "115/115 [==============================] - 0s 949us/step - loss: 0.1878 - accuracy: 0.9147\n",
      "Epoch 25/30\n",
      "115/115 [==============================] - 0s 861us/step - loss: 0.1865 - accuracy: 0.9121\n",
      "Epoch 26/30\n",
      "115/115 [==============================] - 0s 875us/step - loss: 0.1821 - accuracy: 0.9217\n",
      "Epoch 27/30\n",
      "115/115 [==============================] - 0s 848us/step - loss: 0.1793 - accuracy: 0.9182\n",
      "Epoch 28/30\n",
      "115/115 [==============================] - 0s 888us/step - loss: 0.1764 - accuracy: 0.9217\n",
      "Epoch 29/30\n",
      "115/115 [==============================] - 0s 866us/step - loss: 0.1725 - accuracy: 0.9225\n",
      "Epoch 30/30\n",
      "115/115 [==============================] - 0s 844us/step - loss: 0.1697 - accuracy: 0.9286\n"
     ]
    },
    {
     "data": {
      "image/png": "[encoded data removed]",
      "text/plain": [
       "<Figure size 720x360 with 2 Axes>"
      ]
     },
     "metadata": {
      "needs_background": "light"
     },
     "output_type": "display_data"
    }
   ],
   "source": [
    "model = Sequential()\n",
    "\n",
    "sgd = SGD(lr=.009)\n",
    "model.add(Dense(12, activation='relu', input_dim=64))\n",
    "model.add(Dense(8, activation='relu'))\n",
    "model.add(Dense(1, activation='sigmoid'))\n",
    "\n",
    "model.compile(optimizer=sgd,\n",
    "              loss='binary_crossentropy',\n",
    "              metrics=['accuracy'])\n",
    "\n",
    "results = model.fit(X_pure_train, y_pure_train,\n",
    "                    epochs=30, batch_size=10, verbose=1)\n",
    "\n",
    "relu_loss = results.history['loss']\n",
    "relu_accuracy = results.history['accuracy']\n",
    "\n",
    "fig, (ax1, ax2) = plt.subplots(1,2, figsize=(10,5))\n",
    "sns.lineplot(x=results.epoch, y=relu_loss, ax=ax1, label='loss')\n",
    "sns.lineplot(x=results.epoch, y=relu_accuracy, ax=ax2, label='accuracy');"
   ]
  },
  {
   "cell_type": "markdown",
   "metadata": {},
   "source": [
    "### Exercise\n",
    "\n",
    "We have been looking only at our training set. Let's add in our validation set to the picture. Check the docstring for the `.fit()` method and add in our validation data."
   ]
  },
  {
   "cell_type": "code",
   "execution_count": 22,
   "metadata": {},
   "outputs": [
    {
     "name": "stdout",
     "output_type": "stream",
     "text": [
      "Epoch 1/30\n",
      "115/115 [==============================] - 1s 4ms/step - loss: 0.6791 - accuracy: 0.5875 - val_loss: 0.6377 - val_accuracy: 0.7396\n",
      "Epoch 2/30\n",
      "115/115 [==============================] - 0s 2ms/step - loss: 0.5278 - accuracy: 0.7842 - val_loss: 0.4001 - val_accuracy: 0.8576\n",
      "Epoch 3/30\n",
      "115/115 [==============================] - 0s 2ms/step - loss: 0.3393 - accuracy: 0.8581 - val_loss: 0.3074 - val_accuracy: 0.8889\n",
      "Epoch 4/30\n",
      "115/115 [==============================] - 0s 1ms/step - loss: 0.2770 - accuracy: 0.8903 - val_loss: 0.2518 - val_accuracy: 0.8819\n",
      "Epoch 5/30\n",
      "115/115 [==============================] - 0s 1ms/step - loss: 0.2423 - accuracy: 0.9017 - val_loss: 0.2223 - val_accuracy: 0.9132\n",
      "Epoch 6/30\n",
      "115/115 [==============================] - 0s 1ms/step - loss: 0.2222 - accuracy: 0.9025 - val_loss: 0.2107 - val_accuracy: 0.9236\n",
      "Epoch 7/30\n",
      "115/115 [==============================] - 0s 1ms/step - loss: 0.2028 - accuracy: 0.9051 - val_loss: 0.1978 - val_accuracy: 0.9167\n",
      "Epoch 8/30\n",
      "115/115 [==============================] - 0s 1ms/step - loss: 0.1889 - accuracy: 0.9156 - val_loss: 0.1747 - val_accuracy: 0.9340\n",
      "Epoch 9/30\n",
      "115/115 [==============================] - 0s 1ms/step - loss: 0.1776 - accuracy: 0.9147 - val_loss: 0.1666 - val_accuracy: 0.9340\n",
      "Epoch 10/30\n",
      "115/115 [==============================] - 0s 1ms/step - loss: 0.1640 - accuracy: 0.9208 - val_loss: 0.1584 - val_accuracy: 0.9340\n",
      "Epoch 11/30\n",
      "115/115 [==============================] - 0s 1ms/step - loss: 0.1544 - accuracy: 0.9269 - val_loss: 0.1522 - val_accuracy: 0.9479\n",
      "Epoch 12/30\n",
      "115/115 [==============================] - 0s 1ms/step - loss: 0.1447 - accuracy: 0.9321 - val_loss: 0.1778 - val_accuracy: 0.9340\n",
      "Epoch 13/30\n",
      "115/115 [==============================] - 0s 1ms/step - loss: 0.1416 - accuracy: 0.9321 - val_loss: 0.1432 - val_accuracy: 0.9375\n",
      "Epoch 14/30\n",
      "115/115 [==============================] - 0s 1ms/step - loss: 0.1317 - accuracy: 0.9391 - val_loss: 0.1357 - val_accuracy: 0.9549\n",
      "Epoch 15/30\n",
      "115/115 [==============================] - 0s 1ms/step - loss: 0.1264 - accuracy: 0.9487 - val_loss: 0.1578 - val_accuracy: 0.9410\n",
      "Epoch 16/30\n",
      "115/115 [==============================] - 0s 1ms/step - loss: 0.1232 - accuracy: 0.9495 - val_loss: 0.1283 - val_accuracy: 0.9583\n",
      "Epoch 17/30\n",
      "115/115 [==============================] - 0s 1ms/step - loss: 0.1135 - accuracy: 0.9530 - val_loss: 0.1475 - val_accuracy: 0.9410\n",
      "Epoch 18/30\n",
      "115/115 [==============================] - 0s 1ms/step - loss: 0.1098 - accuracy: 0.9539 - val_loss: 0.1294 - val_accuracy: 0.9444\n",
      "Epoch 19/30\n",
      "115/115 [==============================] - 0s 2ms/step - loss: 0.1077 - accuracy: 0.9547 - val_loss: 0.1178 - val_accuracy: 0.9618\n",
      "Epoch 20/30\n",
      "115/115 [==============================] - 0s 1ms/step - loss: 0.0990 - accuracy: 0.9582 - val_loss: 0.1152 - val_accuracy: 0.9618\n",
      "Epoch 21/30\n",
      "115/115 [==============================] - 0s 1ms/step - loss: 0.0950 - accuracy: 0.9652 - val_loss: 0.1289 - val_accuracy: 0.9514\n",
      "Epoch 22/30\n",
      "115/115 [==============================] - 0s 1ms/step - loss: 0.0947 - accuracy: 0.9626 - val_loss: 0.1122 - val_accuracy: 0.9618\n",
      "Epoch 23/30\n",
      "115/115 [==============================] - 0s 1ms/step - loss: 0.0922 - accuracy: 0.9608 - val_loss: 0.1119 - val_accuracy: 0.9653\n",
      "Epoch 24/30\n",
      "115/115 [==============================] - 0s 1ms/step - loss: 0.0889 - accuracy: 0.9652 - val_loss: 0.1149 - val_accuracy: 0.9583\n",
      "Epoch 25/30\n",
      "115/115 [==============================] - 0s 1ms/step - loss: 0.0885 - accuracy: 0.9608 - val_loss: 0.1201 - val_accuracy: 0.9549\n",
      "Epoch 26/30\n",
      "115/115 [==============================] - 0s 1ms/step - loss: 0.0809 - accuracy: 0.9695 - val_loss: 0.1318 - val_accuracy: 0.9514\n",
      "Epoch 27/30\n",
      "115/115 [==============================] - 0s 1ms/step - loss: 0.0781 - accuracy: 0.9687 - val_loss: 0.1124 - val_accuracy: 0.9618\n",
      "Epoch 28/30\n",
      "115/115 [==============================] - 0s 1ms/step - loss: 0.0724 - accuracy: 0.9765 - val_loss: 0.1103 - val_accuracy: 0.9583\n",
      "Epoch 29/30\n",
      "115/115 [==============================] - 0s 1ms/step - loss: 0.0691 - accuracy: 0.9756 - val_loss: 0.1135 - val_accuracy: 0.9618\n",
      "Epoch 30/30\n",
      "115/115 [==============================] - 0s 1ms/step - loss: 0.0669 - accuracy: 0.9765 - val_loss: 0.1175 - val_accuracy: 0.9618\n"
     ]
    },
    {
     "data": {
      "image/png": "[encoded data removed]",
      "text/plain": [
       "<Figure size 720x360 with 2 Axes>"
      ]
     },
     "metadata": {
      "needs_background": "light"
     },
     "output_type": "display_data"
    }
   ],
   "source": [
    "model = Sequential()\n",
    "model.add(Dense(12, activation='relu', input_dim=64))\n",
    "model.add(Dense(8, activation='relu'))\n",
    "model.add(Dense(4, activation='relu'))\n",
    "model.add(Dense(1, activation='sigmoid'))\n",
    "\n",
    "model.compile(optimizer='adam',\n",
    "              loss='binary_crossentropy',\n",
    "              metrics=['accuracy'])\n",
    "\n",
    "\n",
    "results = model.fit(X_pure_train, y_pure_train,\n",
    "                    epochs=30,\n",
    "                    batch_size=10,\n",
    "                    validation_data=(X_val, y_val))\n",
    "\n",
    "train_loss = results.history['loss']\n",
    "train_acc = results.history['accuracy']\n",
    "val_loss = results.history['val_loss']\n",
    "val_acc = results.history['val_accuracy']\n",
    "\n",
    "fig, (ax1, ax2) = plt.subplots(1, 2, figsize=(10, 5))\n",
    "sns.lineplot(x=results.epoch, y=train_loss, ax=ax1, label='train_loss')\n",
    "sns.lineplot(x=results.epoch, y=train_acc, ax=ax2, label='train_accuracy')\n",
    "\n",
    "sns.lineplot(x=results.epoch, y=val_loss, ax=ax1, label='val_loss')\n",
    "sns.lineplot(x=results.epoch, y=val_acc, ax=ax2, label='val_accuracy');"
   ]
  },
  {
   "cell_type": "code",
   "execution_count": 23,
   "metadata": {},
   "outputs": [
    {
     "data": {
      "text/plain": [
       "0.9618055820465088"
      ]
     },
     "execution_count": 23,
     "metadata": {},
     "output_type": "execute_result"
    }
   ],
   "source": [
    "results.history['val_accuracy'][-1]"
   ]
  },
  {
   "cell_type": "markdown",
   "metadata": {},
   "source": [
    "## Connecting with `sklearn`\n",
    "\n",
    "The `keras.wrappers` submodule means that we can turn `keras` models into estimators that `sklearn` tools will recognize."
   ]
  },
  {
   "cell_type": "code",
   "execution_count": 24,
   "metadata": {},
   "outputs": [
    {
     "ename": "TypeError",
     "evalue": "If no scoring is specified, the estimator passed should have a 'score' method. The estimator <keras.engine.sequential.Sequential object at 0x000001DE9DDAC910> does not.",
     "output_type": "error",
     "traceback": [
      "\u001b[1;31m---------------------------------------------------------------------------\u001b[0m",
      "\u001b[1;31mTypeError\u001b[0m                                 Traceback (most recent call last)",
      "\u001b[1;32m~\\AppData\\Local\\Temp/ipykernel_11040/1197616762.py\u001b[0m in \u001b[0;36m<module>\u001b[1;34m\u001b[0m\n\u001b[0;32m      1\u001b[0m \u001b[1;31m# This will throw an error.\u001b[0m\u001b[1;33m\u001b[0m\u001b[1;33m\u001b[0m\u001b[0m\n\u001b[0;32m      2\u001b[0m \u001b[1;33m\u001b[0m\u001b[0m\n\u001b[1;32m----> 3\u001b[1;33m \u001b[0mcross_val_score\u001b[0m\u001b[1;33m(\u001b[0m\u001b[0mmodel\u001b[0m\u001b[1;33m,\u001b[0m \u001b[0mX_pure_train\u001b[0m\u001b[1;33m,\u001b[0m \u001b[0my_pure_train\u001b[0m\u001b[1;33m)\u001b[0m\u001b[1;33m\u001b[0m\u001b[1;33m\u001b[0m\u001b[0m\n\u001b[0m",
      "\u001b[1;32m~\\anaconda3\\lib\\site-packages\\sklearn\\utils\\validation.py\u001b[0m in \u001b[0;36minner_f\u001b[1;34m(*args, **kwargs)\u001b[0m\n\u001b[0;32m     61\u001b[0m             \u001b[0mextra_args\u001b[0m \u001b[1;33m=\u001b[0m \u001b[0mlen\u001b[0m\u001b[1;33m(\u001b[0m\u001b[0margs\u001b[0m\u001b[1;33m)\u001b[0m \u001b[1;33m-\u001b[0m \u001b[0mlen\u001b[0m\u001b[1;33m(\u001b[0m\u001b[0mall_args\u001b[0m\u001b[1;33m)\u001b[0m\u001b[1;33m\u001b[0m\u001b[1;33m\u001b[0m\u001b[0m\n\u001b[0;32m     62\u001b[0m             \u001b[1;32mif\u001b[0m \u001b[0mextra_args\u001b[0m \u001b[1;33m<=\u001b[0m \u001b[1;36m0\u001b[0m\u001b[1;33m:\u001b[0m\u001b[1;33m\u001b[0m\u001b[1;33m\u001b[0m\u001b[0m\n\u001b[1;32m---> 63\u001b[1;33m                 \u001b[1;32mreturn\u001b[0m \u001b[0mf\u001b[0m\u001b[1;33m(\u001b[0m\u001b[1;33m*\u001b[0m\u001b[0margs\u001b[0m\u001b[1;33m,\u001b[0m \u001b[1;33m**\u001b[0m\u001b[0mkwargs\u001b[0m\u001b[1;33m)\u001b[0m\u001b[1;33m\u001b[0m\u001b[1;33m\u001b[0m\u001b[0m\n\u001b[0m\u001b[0;32m     64\u001b[0m \u001b[1;33m\u001b[0m\u001b[0m\n\u001b[0;32m     65\u001b[0m             \u001b[1;31m# extra_args > 0\u001b[0m\u001b[1;33m\u001b[0m\u001b[1;33m\u001b[0m\u001b[0m\n",
      "\u001b[1;32m~\\anaconda3\\lib\\site-packages\\sklearn\\model_selection\\_validation.py\u001b[0m in \u001b[0;36mcross_val_score\u001b[1;34m(estimator, X, y, groups, scoring, cv, n_jobs, verbose, fit_params, pre_dispatch, error_score)\u001b[0m\n\u001b[0;32m    441\u001b[0m     \"\"\"\n\u001b[0;32m    442\u001b[0m     \u001b[1;31m# To ensure multimetric format is not supported\u001b[0m\u001b[1;33m\u001b[0m\u001b[1;33m\u001b[0m\u001b[0m\n\u001b[1;32m--> 443\u001b[1;33m     \u001b[0mscorer\u001b[0m \u001b[1;33m=\u001b[0m \u001b[0mcheck_scoring\u001b[0m\u001b[1;33m(\u001b[0m\u001b[0mestimator\u001b[0m\u001b[1;33m,\u001b[0m \u001b[0mscoring\u001b[0m\u001b[1;33m=\u001b[0m\u001b[0mscoring\u001b[0m\u001b[1;33m)\u001b[0m\u001b[1;33m\u001b[0m\u001b[1;33m\u001b[0m\u001b[0m\n\u001b[0m\u001b[0;32m    444\u001b[0m \u001b[1;33m\u001b[0m\u001b[0m\n\u001b[0;32m    445\u001b[0m     cv_results = cross_validate(estimator=estimator, X=X, y=y, groups=groups,\n",
      "\u001b[1;32m~\\anaconda3\\lib\\site-packages\\sklearn\\utils\\validation.py\u001b[0m in \u001b[0;36minner_f\u001b[1;34m(*args, **kwargs)\u001b[0m\n\u001b[0;32m     61\u001b[0m             \u001b[0mextra_args\u001b[0m \u001b[1;33m=\u001b[0m \u001b[0mlen\u001b[0m\u001b[1;33m(\u001b[0m\u001b[0margs\u001b[0m\u001b[1;33m)\u001b[0m \u001b[1;33m-\u001b[0m \u001b[0mlen\u001b[0m\u001b[1;33m(\u001b[0m\u001b[0mall_args\u001b[0m\u001b[1;33m)\u001b[0m\u001b[1;33m\u001b[0m\u001b[1;33m\u001b[0m\u001b[0m\n\u001b[0;32m     62\u001b[0m             \u001b[1;32mif\u001b[0m \u001b[0mextra_args\u001b[0m \u001b[1;33m<=\u001b[0m \u001b[1;36m0\u001b[0m\u001b[1;33m:\u001b[0m\u001b[1;33m\u001b[0m\u001b[1;33m\u001b[0m\u001b[0m\n\u001b[1;32m---> 63\u001b[1;33m                 \u001b[1;32mreturn\u001b[0m \u001b[0mf\u001b[0m\u001b[1;33m(\u001b[0m\u001b[1;33m*\u001b[0m\u001b[0margs\u001b[0m\u001b[1;33m,\u001b[0m \u001b[1;33m**\u001b[0m\u001b[0mkwargs\u001b[0m\u001b[1;33m)\u001b[0m\u001b[1;33m\u001b[0m\u001b[1;33m\u001b[0m\u001b[0m\n\u001b[0m\u001b[0;32m     64\u001b[0m \u001b[1;33m\u001b[0m\u001b[0m\n\u001b[0;32m     65\u001b[0m             \u001b[1;31m# extra_args > 0\u001b[0m\u001b[1;33m\u001b[0m\u001b[1;33m\u001b[0m\u001b[0m\n",
      "\u001b[1;32m~\\anaconda3\\lib\\site-packages\\sklearn\\metrics\\_scorer.py\u001b[0m in \u001b[0;36mcheck_scoring\u001b[1;34m(estimator, scoring, allow_none)\u001b[0m\n\u001b[0;32m    448\u001b[0m             \u001b[1;32mreturn\u001b[0m \u001b[1;32mNone\u001b[0m\u001b[1;33m\u001b[0m\u001b[1;33m\u001b[0m\u001b[0m\n\u001b[0;32m    449\u001b[0m         \u001b[1;32melse\u001b[0m\u001b[1;33m:\u001b[0m\u001b[1;33m\u001b[0m\u001b[1;33m\u001b[0m\u001b[0m\n\u001b[1;32m--> 450\u001b[1;33m             raise TypeError(\n\u001b[0m\u001b[0;32m    451\u001b[0m                 \u001b[1;34m\"If no scoring is specified, the estimator passed should \"\u001b[0m\u001b[1;33m\u001b[0m\u001b[1;33m\u001b[0m\u001b[0m\n\u001b[0;32m    452\u001b[0m                 \u001b[1;34m\"have a 'score' method. The estimator %r does not.\"\u001b[0m\u001b[1;33m\u001b[0m\u001b[1;33m\u001b[0m\u001b[0m\n",
      "\u001b[1;31mTypeError\u001b[0m: If no scoring is specified, the estimator passed should have a 'score' method. The estimator <keras.engine.sequential.Sequential object at 0x000001DE9DDAC910> does not."
     ]
    }
   ],
   "source": [
    "# This will throw an error.\n",
    "\n",
    "cross_val_score(model, X_pure_train, y_pure_train)"
   ]
  },
  {
   "cell_type": "code",
   "execution_count": 25,
   "metadata": {},
   "outputs": [],
   "source": [
    "def build_model():\n",
    "    model = Sequential()\n",
    "    model.add(Dense(12, activation='relu', input_dim=64))\n",
    "    model.add(Dense(8, activation='relu'))\n",
    "    model.add(Dense(4, activation='relu'))\n",
    "    model.add(Dense(1, activation = 'sigmoid'))\n",
    "\n",
    "    model.compile(optimizer='adam',\n",
    "                  loss='binary_crossentropy',\n",
    "                  metrics=['accuracy'])\n",
    "    return model"
   ]
  },
  {
   "cell_type": "code",
   "execution_count": 26,
   "metadata": {},
   "outputs": [
    {
     "name": "stderr",
     "output_type": "stream",
     "text": [
      "C:\\Users\\brtra\\AppData\\Local\\Temp/ipykernel_11040/1410931533.py:1: DeprecationWarning: KerasClassifier is deprecated, use Sci-Keras (https://github.com/adriangb/scikeras) instead. See https://www.adriangb.com/scikeras/stable/migration.html for help migrating.\n",
      "  keras_model = scikit_learn.KerasClassifier(build_model,\n"
     ]
    }
   ],
   "source": [
    "keras_model = scikit_learn.KerasClassifier(build_model,\n",
    "                                          epochs=50,\n",
    "                                          batch_size=32,\n",
    "                                          verbose=2)"
   ]
  },
  {
   "cell_type": "code",
   "execution_count": 27,
   "metadata": {},
   "outputs": [
    {
     "data": {
      "text/plain": [
       "keras.wrappers.scikit_learn.KerasClassifier"
      ]
     },
     "execution_count": 27,
     "metadata": {},
     "output_type": "execute_result"
    }
   ],
   "source": [
    "type(keras_model)"
   ]
  },
  {
   "cell_type": "code",
   "execution_count": 28,
   "metadata": {
    "scrolled": true
   },
   "outputs": [
    {
     "name": "stdout",
     "output_type": "stream",
     "text": [
      "Epoch 1/50\n",
      "29/29 - 0s - loss: 0.6930 - accuracy: 0.4962 - 428ms/epoch - 15ms/step\n",
      "Epoch 2/50\n",
      "29/29 - 0s - loss: 0.6781 - accuracy: 0.5212 - 32ms/epoch - 1ms/step\n",
      "Epoch 3/50\n",
      "29/29 - 0s - loss: 0.6569 - accuracy: 0.6257 - 32ms/epoch - 1ms/step\n",
      "Epoch 4/50\n",
      "29/29 - 0s - loss: 0.6184 - accuracy: 0.7606 - 34ms/epoch - 1ms/step\n",
      "Epoch 5/50\n",
      "29/29 - 0s - loss: 0.5541 - accuracy: 0.8074 - 29ms/epoch - 992us/step\n",
      "Epoch 6/50\n",
      "29/29 - 0s - loss: 0.4721 - accuracy: 0.8477 - 28ms/epoch - 958us/step\n",
      "Epoch 7/50\n",
      "29/29 - 0s - loss: 0.3927 - accuracy: 0.8629 - 27ms/epoch - 941us/step\n",
      "Epoch 8/50\n",
      "29/29 - 0s - loss: 0.3310 - accuracy: 0.8792 - 30ms/epoch - 1ms/step\n",
      "Epoch 9/50\n",
      "29/29 - 0s - loss: 0.2889 - accuracy: 0.8836 - 28ms/epoch - 958us/step\n",
      "Epoch 10/50\n",
      "29/29 - 0s - loss: 0.2600 - accuracy: 0.9010 - 28ms/epoch - 958us/step\n",
      "Epoch 11/50\n",
      "29/29 - 0s - loss: 0.2380 - accuracy: 0.9042 - 32ms/epoch - 1ms/step\n",
      "Epoch 12/50\n",
      "29/29 - 0s - loss: 0.2203 - accuracy: 0.9075 - 33ms/epoch - 1ms/step\n",
      "Epoch 13/50\n",
      "29/29 - 0s - loss: 0.2055 - accuracy: 0.9238 - 29ms/epoch - 1ms/step\n",
      "Epoch 14/50\n",
      "29/29 - 0s - loss: 0.1932 - accuracy: 0.9195 - 29ms/epoch - 1ms/step\n",
      "Epoch 15/50\n",
      "29/29 - 0s - loss: 0.1821 - accuracy: 0.9249 - 26ms/epoch - 906us/step\n",
      "Epoch 16/50\n",
      "29/29 - 0s - loss: 0.1760 - accuracy: 0.9173 - 28ms/epoch - 958us/step\n",
      "Epoch 17/50\n",
      "29/29 - 0s - loss: 0.1602 - accuracy: 0.9304 - 29ms/epoch - 992us/step\n",
      "Epoch 18/50\n",
      "29/29 - 0s - loss: 0.1533 - accuracy: 0.9336 - 29ms/epoch - 1ms/step\n",
      "Epoch 19/50\n",
      "29/29 - 0s - loss: 0.1487 - accuracy: 0.9314 - 29ms/epoch - 992us/step\n",
      "Epoch 20/50\n",
      "29/29 - 0s - loss: 0.1390 - accuracy: 0.9412 - 29ms/epoch - 1ms/step\n",
      "Epoch 21/50\n",
      "29/29 - 0s - loss: 0.1313 - accuracy: 0.9456 - 27ms/epoch - 941us/step\n",
      "Epoch 22/50\n",
      "29/29 - 0s - loss: 0.1262 - accuracy: 0.9467 - 28ms/epoch - 958us/step\n",
      "Epoch 23/50\n",
      "29/29 - 0s - loss: 0.1180 - accuracy: 0.9521 - 29ms/epoch - 992us/step\n",
      "Epoch 24/50\n",
      "29/29 - 0s - loss: 0.1141 - accuracy: 0.9543 - 28ms/epoch - 975us/step\n",
      "Epoch 25/50\n",
      "29/29 - 0s - loss: 0.1098 - accuracy: 0.9532 - 29ms/epoch - 1ms/step\n",
      "Epoch 26/50\n",
      "29/29 - 0s - loss: 0.1048 - accuracy: 0.9608 - 30ms/epoch - 1ms/step\n",
      "Epoch 27/50\n",
      "29/29 - 0s - loss: 0.0978 - accuracy: 0.9608 - 30ms/epoch - 1ms/step\n",
      "Epoch 28/50\n",
      "29/29 - 0s - loss: 0.0955 - accuracy: 0.9641 - 30ms/epoch - 1ms/step\n",
      "Epoch 29/50\n",
      "29/29 - 0s - loss: 0.0911 - accuracy: 0.9619 - 28ms/epoch - 958us/step\n",
      "Epoch 30/50\n",
      "29/29 - 0s - loss: 0.0878 - accuracy: 0.9652 - 29ms/epoch - 1ms/step\n",
      "Epoch 31/50\n",
      "29/29 - 0s - loss: 0.0822 - accuracy: 0.9663 - 27ms/epoch - 924us/step\n",
      "Epoch 32/50\n",
      "29/29 - 0s - loss: 0.0810 - accuracy: 0.9695 - 29ms/epoch - 1ms/step\n",
      "Epoch 33/50\n",
      "29/29 - 0s - loss: 0.0799 - accuracy: 0.9684 - 29ms/epoch - 992us/step\n",
      "Epoch 34/50\n",
      "29/29 - 0s - loss: 0.0734 - accuracy: 0.9717 - 28ms/epoch - 975us/step\n",
      "Epoch 35/50\n",
      "29/29 - 0s - loss: 0.0704 - accuracy: 0.9771 - 29ms/epoch - 992us/step\n",
      "Epoch 36/50\n",
      "29/29 - 0s - loss: 0.0706 - accuracy: 0.9706 - 27ms/epoch - 924us/step\n",
      "Epoch 37/50\n",
      "29/29 - 0s - loss: 0.0672 - accuracy: 0.9750 - 29ms/epoch - 1ms/step\n",
      "Epoch 38/50\n",
      "29/29 - 0s - loss: 0.0626 - accuracy: 0.9761 - 30ms/epoch - 1ms/step\n",
      "Epoch 39/50\n",
      "29/29 - 0s - loss: 0.0603 - accuracy: 0.9782 - 28ms/epoch - 958us/step\n",
      "Epoch 40/50\n",
      "29/29 - 0s - loss: 0.0570 - accuracy: 0.9750 - 30ms/epoch - 1ms/step\n",
      "Epoch 41/50\n",
      "29/29 - 0s - loss: 0.0575 - accuracy: 0.9750 - 29ms/epoch - 992us/step\n",
      "Epoch 42/50\n",
      "29/29 - 0s - loss: 0.0557 - accuracy: 0.9804 - 29ms/epoch - 1ms/step\n",
      "Epoch 43/50\n",
      "29/29 - 0s - loss: 0.0540 - accuracy: 0.9804 - 27ms/epoch - 924us/step\n",
      "Epoch 44/50\n",
      "29/29 - 0s - loss: 0.0504 - accuracy: 0.9804 - 29ms/epoch - 992us/step\n",
      "Epoch 45/50\n",
      "29/29 - 0s - loss: 0.0475 - accuracy: 0.9837 - 30ms/epoch - 1ms/step\n",
      "Epoch 46/50\n",
      "29/29 - 0s - loss: 0.0449 - accuracy: 0.9859 - 27ms/epoch - 941us/step\n",
      "Epoch 47/50\n",
      "29/29 - 0s - loss: 0.0433 - accuracy: 0.9848 - 29ms/epoch - 992us/step\n",
      "Epoch 48/50\n",
      "29/29 - 0s - loss: 0.0421 - accuracy: 0.9859 - 26ms/epoch - 907us/step\n",
      "Epoch 49/50\n",
      "29/29 - 0s - loss: 0.0400 - accuracy: 0.9891 - 28ms/epoch - 958us/step\n",
      "Epoch 50/50\n",
      "29/29 - 0s - loss: 0.0379 - accuracy: 0.9859 - 28ms/epoch - 958us/step\n",
      "8/8 - 0s - loss: 0.1130 - accuracy: 0.9565 - 124ms/epoch - 15ms/step\n",
      "Epoch 1/50\n",
      "29/29 - 0s - loss: 0.7166 - accuracy: 0.4799 - 494ms/epoch - 17ms/step\n",
      "Epoch 2/50\n",
      "29/29 - 0s - loss: 0.6815 - accuracy: 0.5038 - 32ms/epoch - 1ms/step\n",
      "Epoch 3/50\n",
      "29/29 - 0s - loss: 0.6581 - accuracy: 0.6670 - 38ms/epoch - 1ms/step\n",
      "Epoch 4/50\n",
      "29/29 - 0s - loss: 0.6276 - accuracy: 0.7247 - 37ms/epoch - 1ms/step\n",
      "Epoch 5/50\n",
      "29/29 - 0s - loss: 0.5866 - accuracy: 0.7682 - 31ms/epoch - 1ms/step\n",
      "Epoch 6/50\n",
      "29/29 - 0s - loss: 0.5449 - accuracy: 0.8107 - 29ms/epoch - 992us/step\n",
      "Epoch 7/50\n",
      "29/29 - 0s - loss: 0.5105 - accuracy: 0.8422 - 28ms/epoch - 975us/step\n",
      "Epoch 8/50\n",
      "29/29 - 0s - loss: 0.4826 - accuracy: 0.8694 - 27ms/epoch - 941us/step\n",
      "Epoch 9/50\n",
      "29/29 - 0s - loss: 0.4615 - accuracy: 0.8814 - 26ms/epoch - 906us/step\n",
      "Epoch 10/50\n",
      "29/29 - 0s - loss: 0.4474 - accuracy: 0.8847 - 29ms/epoch - 1ms/step\n",
      "Epoch 11/50\n",
      "29/29 - 0s - loss: 0.4297 - accuracy: 0.8977 - 29ms/epoch - 1ms/step\n",
      "Epoch 12/50\n",
      "29/29 - 0s - loss: 0.4182 - accuracy: 0.8988 - 27ms/epoch - 941us/step\n",
      "Epoch 13/50\n",
      "29/29 - 0s - loss: 0.4047 - accuracy: 0.9032 - 29ms/epoch - 992us/step\n",
      "Epoch 14/50\n",
      "29/29 - 0s - loss: 0.3933 - accuracy: 0.9064 - 28ms/epoch - 975us/step\n",
      "Epoch 15/50\n",
      "29/29 - 0s - loss: 0.3819 - accuracy: 0.9151 - 28ms/epoch - 975us/step\n",
      "Epoch 16/50\n",
      "29/29 - 0s - loss: 0.3741 - accuracy: 0.9151 - 27ms/epoch - 941us/step\n",
      "Epoch 17/50\n",
      "29/29 - 0s - loss: 0.3615 - accuracy: 0.9173 - 33ms/epoch - 1ms/step\n",
      "Epoch 18/50\n",
      "29/29 - 0s - loss: 0.3505 - accuracy: 0.9249 - 28ms/epoch - 975us/step\n",
      "Epoch 19/50\n",
      "29/29 - 0s - loss: 0.3414 - accuracy: 0.9271 - 29ms/epoch - 1ms/step\n",
      "Epoch 20/50\n",
      "29/29 - 0s - loss: 0.3318 - accuracy: 0.9304 - 29ms/epoch - 992us/step\n",
      "Epoch 21/50\n",
      "29/29 - 0s - loss: 0.3246 - accuracy: 0.9336 - 40ms/epoch - 1ms/step\n",
      "Epoch 22/50\n",
      "29/29 - 0s - loss: 0.3154 - accuracy: 0.9412 - 30ms/epoch - 1ms/step\n",
      "Epoch 23/50\n",
      "29/29 - 0s - loss: 0.3075 - accuracy: 0.9402 - 28ms/epoch - 975us/step\n",
      "Epoch 24/50\n",
      "29/29 - 0s - loss: 0.3004 - accuracy: 0.9423 - 28ms/epoch - 975us/step\n",
      "Epoch 25/50\n",
      "29/29 - 0s - loss: 0.2906 - accuracy: 0.9467 - 26ms/epoch - 906us/step\n",
      "Epoch 26/50\n",
      "29/29 - 0s - loss: 0.2860 - accuracy: 0.9499 - 28ms/epoch - 975us/step\n",
      "Epoch 27/50\n",
      "29/29 - 0s - loss: 0.2758 - accuracy: 0.9510 - 26ms/epoch - 889us/step\n",
      "Epoch 28/50\n",
      "29/29 - 0s - loss: 0.2710 - accuracy: 0.9554 - 28ms/epoch - 958us/step\n",
      "Epoch 29/50\n",
      "29/29 - 0s - loss: 0.2633 - accuracy: 0.9565 - 31ms/epoch - 1ms/step\n",
      "Epoch 30/50\n",
      "29/29 - 0s - loss: 0.2599 - accuracy: 0.9521 - 30ms/epoch - 1ms/step\n",
      "Epoch 31/50\n",
      "29/29 - 0s - loss: 0.2533 - accuracy: 0.9532 - 33ms/epoch - 1ms/step\n",
      "Epoch 32/50\n",
      "29/29 - 0s - loss: 0.2448 - accuracy: 0.9641 - 31ms/epoch - 1ms/step\n",
      "Epoch 33/50\n",
      "29/29 - 0s - loss: 0.2428 - accuracy: 0.9597 - 27ms/epoch - 941us/step\n",
      "Epoch 34/50\n",
      "29/29 - 0s - loss: 0.2398 - accuracy: 0.9576 - 35ms/epoch - 1ms/step\n",
      "Epoch 35/50\n",
      "29/29 - 0s - loss: 0.2063 - accuracy: 0.9630 - 28ms/epoch - 975us/step\n",
      "Epoch 36/50\n",
      "29/29 - 0s - loss: 0.1513 - accuracy: 0.9619 - 32ms/epoch - 1ms/step\n",
      "Epoch 37/50\n",
      "29/29 - 0s - loss: 0.1287 - accuracy: 0.9630 - 28ms/epoch - 958us/step\n",
      "Epoch 38/50\n",
      "29/29 - 0s - loss: 0.1245 - accuracy: 0.9641 - 28ms/epoch - 975us/step\n",
      "Epoch 39/50\n",
      "29/29 - 0s - loss: 0.1104 - accuracy: 0.9641 - 32ms/epoch - 1ms/step\n",
      "Epoch 40/50\n",
      "29/29 - 0s - loss: 0.0912 - accuracy: 0.9684 - 33ms/epoch - 1ms/step\n",
      "Epoch 41/50\n",
      "29/29 - 0s - loss: 0.0836 - accuracy: 0.9652 - 44ms/epoch - 2ms/step\n",
      "Epoch 42/50\n",
      "29/29 - 0s - loss: 0.0735 - accuracy: 0.9739 - 71ms/epoch - 2ms/step\n",
      "Epoch 43/50\n",
      "29/29 - 0s - loss: 0.0676 - accuracy: 0.9761 - 32ms/epoch - 1ms/step\n",
      "Epoch 44/50\n",
      "29/29 - 0s - loss: 0.0623 - accuracy: 0.9793 - 37ms/epoch - 1ms/step\n",
      "Epoch 45/50\n",
      "29/29 - 0s - loss: 0.0590 - accuracy: 0.9793 - 39ms/epoch - 1ms/step\n",
      "Epoch 46/50\n",
      "29/29 - 0s - loss: 0.0553 - accuracy: 0.9793 - 41ms/epoch - 1ms/step\n",
      "Epoch 47/50\n",
      "29/29 - 0s - loss: 0.0513 - accuracy: 0.9859 - 35ms/epoch - 1ms/step\n",
      "Epoch 48/50\n",
      "29/29 - 0s - loss: 0.0483 - accuracy: 0.9859 - 31ms/epoch - 1ms/step\n",
      "Epoch 49/50\n",
      "29/29 - 0s - loss: 0.0488 - accuracy: 0.9848 - 35ms/epoch - 1ms/step\n",
      "Epoch 50/50\n",
      "29/29 - 0s - loss: 0.0429 - accuracy: 0.9902 - 26ms/epoch - 889us/step\n"
     ]
    },
    {
     "name": "stdout",
     "output_type": "stream",
     "text": [
      "8/8 - 0s - loss: 0.1568 - accuracy: 0.9435 - 115ms/epoch - 14ms/step\n",
      "Epoch 1/50\n",
      "29/29 - 1s - loss: 0.7075 - accuracy: 0.5299 - 531ms/epoch - 18ms/step\n",
      "Epoch 2/50\n",
      "29/29 - 0s - loss: 0.6343 - accuracy: 0.6387 - 33ms/epoch - 1ms/step\n",
      "Epoch 3/50\n",
      "29/29 - 0s - loss: 0.5814 - accuracy: 0.7040 - 27ms/epoch - 941us/step\n",
      "Epoch 4/50\n",
      "29/29 - 0s - loss: 0.5299 - accuracy: 0.8118 - 26ms/epoch - 889us/step\n",
      "Epoch 5/50\n",
      "29/29 - 0s - loss: 0.4830 - accuracy: 0.8411 - 29ms/epoch - 1ms/step\n",
      "Epoch 6/50\n",
      "29/29 - 0s - loss: 0.4329 - accuracy: 0.8792 - 31ms/epoch - 1ms/step\n",
      "Epoch 7/50\n",
      "29/29 - 0s - loss: 0.3771 - accuracy: 0.8912 - 26ms/epoch - 889us/step\n",
      "Epoch 8/50\n",
      "29/29 - 0s - loss: 0.3202 - accuracy: 0.9053 - 28ms/epoch - 958us/step\n",
      "Epoch 9/50\n",
      "29/29 - 0s - loss: 0.2736 - accuracy: 0.9140 - 31ms/epoch - 1ms/step\n",
      "Epoch 10/50\n",
      "29/29 - 0s - loss: 0.2407 - accuracy: 0.9227 - 27ms/epoch - 941us/step\n",
      "Epoch 11/50\n",
      "29/29 - 0s - loss: 0.2177 - accuracy: 0.9271 - 30ms/epoch - 1ms/step\n",
      "Epoch 12/50\n",
      "29/29 - 0s - loss: 0.2011 - accuracy: 0.9271 - 35ms/epoch - 1ms/step\n",
      "Epoch 13/50\n",
      "29/29 - 0s - loss: 0.1847 - accuracy: 0.9380 - 31ms/epoch - 1ms/step\n",
      "Epoch 14/50\n",
      "29/29 - 0s - loss: 0.1749 - accuracy: 0.9336 - 48ms/epoch - 2ms/step\n",
      "Epoch 15/50\n",
      "29/29 - 0s - loss: 0.1665 - accuracy: 0.9423 - 37ms/epoch - 1ms/step\n",
      "Epoch 16/50\n",
      "29/29 - 0s - loss: 0.1578 - accuracy: 0.9445 - 31ms/epoch - 1ms/step\n",
      "Epoch 17/50\n",
      "29/29 - 0s - loss: 0.1522 - accuracy: 0.9467 - 34ms/epoch - 1ms/step\n",
      "Epoch 18/50\n",
      "29/29 - 0s - loss: 0.1449 - accuracy: 0.9445 - 36ms/epoch - 1ms/step\n",
      "Epoch 19/50\n",
      "29/29 - 0s - loss: 0.1378 - accuracy: 0.9532 - 29ms/epoch - 1ms/step\n",
      "Epoch 20/50\n",
      "29/29 - 0s - loss: 0.1313 - accuracy: 0.9565 - 38ms/epoch - 1ms/step\n",
      "Epoch 21/50\n",
      "29/29 - 0s - loss: 0.1272 - accuracy: 0.9521 - 29ms/epoch - 992us/step\n",
      "Epoch 22/50\n",
      "29/29 - 0s - loss: 0.1214 - accuracy: 0.9554 - 29ms/epoch - 992us/step\n",
      "Epoch 23/50\n",
      "29/29 - 0s - loss: 0.1231 - accuracy: 0.9619 - 27ms/epoch - 924us/step\n",
      "Epoch 24/50\n",
      "29/29 - 0s - loss: 0.1141 - accuracy: 0.9576 - 28ms/epoch - 975us/step\n",
      "Epoch 25/50\n",
      "29/29 - 0s - loss: 0.1068 - accuracy: 0.9597 - 28ms/epoch - 975us/step\n",
      "Epoch 26/50\n",
      "29/29 - 0s - loss: 0.1097 - accuracy: 0.9619 - 30ms/epoch - 1ms/step\n",
      "Epoch 27/50\n",
      "29/29 - 0s - loss: 0.1015 - accuracy: 0.9674 - 29ms/epoch - 992us/step\n",
      "Epoch 28/50\n",
      "29/29 - 0s - loss: 0.0978 - accuracy: 0.9706 - 29ms/epoch - 992us/step\n",
      "Epoch 29/50\n",
      "29/29 - 0s - loss: 0.0926 - accuracy: 0.9706 - 26ms/epoch - 889us/step\n",
      "Epoch 30/50\n",
      "29/29 - 0s - loss: 0.0900 - accuracy: 0.9674 - 29ms/epoch - 1ms/step\n",
      "Epoch 31/50\n",
      "29/29 - 0s - loss: 0.0849 - accuracy: 0.9761 - 29ms/epoch - 1ms/step\n",
      "Epoch 32/50\n",
      "29/29 - 0s - loss: 0.0809 - accuracy: 0.9771 - 31ms/epoch - 1ms/step\n",
      "Epoch 33/50\n",
      "29/29 - 0s - loss: 0.0780 - accuracy: 0.9815 - 37ms/epoch - 1ms/step\n",
      "Epoch 34/50\n",
      "29/29 - 0s - loss: 0.0743 - accuracy: 0.9771 - 34ms/epoch - 1ms/step\n",
      "Epoch 35/50\n",
      "29/29 - 0s - loss: 0.0735 - accuracy: 0.9804 - 39ms/epoch - 1ms/step\n",
      "Epoch 36/50\n",
      "29/29 - 0s - loss: 0.0706 - accuracy: 0.9793 - 35ms/epoch - 1ms/step\n",
      "Epoch 37/50\n",
      "29/29 - 0s - loss: 0.0671 - accuracy: 0.9815 - 27ms/epoch - 924us/step\n",
      "Epoch 38/50\n",
      "29/29 - 0s - loss: 0.0647 - accuracy: 0.9848 - 27ms/epoch - 941us/step\n",
      "Epoch 39/50\n",
      "29/29 - 0s - loss: 0.0622 - accuracy: 0.9826 - 29ms/epoch - 1ms/step\n",
      "Epoch 40/50\n",
      "29/29 - 0s - loss: 0.0598 - accuracy: 0.9848 - 27ms/epoch - 941us/step\n",
      "Epoch 41/50\n",
      "29/29 - 0s - loss: 0.0579 - accuracy: 0.9880 - 29ms/epoch - 992us/step\n",
      "Epoch 42/50\n",
      "29/29 - 0s - loss: 0.0579 - accuracy: 0.9848 - 26ms/epoch - 907us/step\n",
      "Epoch 43/50\n",
      "29/29 - 0s - loss: 0.0598 - accuracy: 0.9837 - 28ms/epoch - 958us/step\n",
      "Epoch 44/50\n",
      "29/29 - 0s - loss: 0.0530 - accuracy: 0.9891 - 27ms/epoch - 941us/step\n",
      "Epoch 45/50\n",
      "29/29 - 0s - loss: 0.0503 - accuracy: 0.9880 - 29ms/epoch - 992us/step\n",
      "Epoch 46/50\n",
      "29/29 - 0s - loss: 0.0493 - accuracy: 0.9902 - 26ms/epoch - 889us/step\n",
      "Epoch 47/50\n",
      "29/29 - 0s - loss: 0.0458 - accuracy: 0.9913 - 30ms/epoch - 1ms/step\n",
      "Epoch 48/50\n",
      "29/29 - 0s - loss: 0.0430 - accuracy: 0.9924 - 29ms/epoch - 992us/step\n",
      "Epoch 49/50\n",
      "29/29 - 0s - loss: 0.0431 - accuracy: 0.9924 - 38ms/epoch - 1ms/step\n",
      "Epoch 50/50\n",
      "29/29 - 0s - loss: 0.0411 - accuracy: 0.9935 - 38ms/epoch - 1ms/step\n",
      "8/8 - 0s - loss: 0.1235 - accuracy: 0.9565 - 118ms/epoch - 15ms/step\n",
      "Epoch 1/50\n",
      "29/29 - 0s - loss: 0.6392 - accuracy: 0.7378 - 478ms/epoch - 16ms/step\n",
      "Epoch 2/50\n",
      "29/29 - 0s - loss: 0.5474 - accuracy: 0.7628 - 29ms/epoch - 992us/step\n",
      "Epoch 3/50\n",
      "29/29 - 0s - loss: 0.4535 - accuracy: 0.7987 - 32ms/epoch - 1ms/step\n",
      "Epoch 4/50\n",
      "29/29 - 0s - loss: 0.3793 - accuracy: 0.8400 - 30ms/epoch - 1ms/step\n",
      "Epoch 5/50\n",
      "29/29 - 0s - loss: 0.3320 - accuracy: 0.8662 - 30ms/epoch - 1ms/step\n",
      "Epoch 6/50\n",
      "29/29 - 0s - loss: 0.3004 - accuracy: 0.8738 - 31ms/epoch - 1ms/step\n",
      "Epoch 7/50\n",
      "29/29 - 0s - loss: 0.2800 - accuracy: 0.8803 - 28ms/epoch - 958us/step\n",
      "Epoch 8/50\n",
      "29/29 - 0s - loss: 0.2622 - accuracy: 0.8955 - 31ms/epoch - 1ms/step\n",
      "Epoch 9/50\n",
      "29/29 - 0s - loss: 0.2463 - accuracy: 0.8945 - 30ms/epoch - 1ms/step\n",
      "Epoch 10/50\n",
      "29/29 - 0s - loss: 0.2328 - accuracy: 0.9032 - 29ms/epoch - 992us/step\n",
      "Epoch 11/50\n",
      "29/29 - 0s - loss: 0.2206 - accuracy: 0.9042 - 29ms/epoch - 992us/step\n",
      "Epoch 12/50\n",
      "29/29 - 0s - loss: 0.2041 - accuracy: 0.9119 - 27ms/epoch - 941us/step\n",
      "Epoch 13/50\n",
      "29/29 - 0s - loss: 0.1908 - accuracy: 0.9151 - 30ms/epoch - 1ms/step\n",
      "Epoch 14/50\n",
      "29/29 - 0s - loss: 0.1908 - accuracy: 0.9217 - 27ms/epoch - 941us/step\n",
      "Epoch 15/50\n",
      "29/29 - 0s - loss: 0.1722 - accuracy: 0.9184 - 29ms/epoch - 992us/step\n",
      "Epoch 16/50\n",
      "29/29 - 0s - loss: 0.1615 - accuracy: 0.9271 - 30ms/epoch - 1ms/step\n",
      "Epoch 17/50\n",
      "29/29 - 0s - loss: 0.1533 - accuracy: 0.9336 - 30ms/epoch - 1ms/step\n",
      "Epoch 18/50\n",
      "29/29 - 0s - loss: 0.1468 - accuracy: 0.9445 - 29ms/epoch - 992us/step\n",
      "Epoch 19/50\n",
      "29/29 - 0s - loss: 0.1411 - accuracy: 0.9467 - 30ms/epoch - 1ms/step\n",
      "Epoch 20/50\n",
      "29/29 - 0s - loss: 0.1343 - accuracy: 0.9478 - 28ms/epoch - 975us/step\n",
      "Epoch 21/50\n",
      "29/29 - 0s - loss: 0.1302 - accuracy: 0.9510 - 27ms/epoch - 941us/step\n",
      "Epoch 22/50\n",
      "29/29 - 0s - loss: 0.1244 - accuracy: 0.9532 - 27ms/epoch - 941us/step\n",
      "Epoch 23/50\n",
      "29/29 - 0s - loss: 0.1183 - accuracy: 0.9587 - 31ms/epoch - 1ms/step\n",
      "Epoch 24/50\n",
      "29/29 - 0s - loss: 0.1258 - accuracy: 0.9543 - 30ms/epoch - 1ms/step\n",
      "Epoch 25/50\n",
      "29/29 - 0s - loss: 0.1102 - accuracy: 0.9619 - 30ms/epoch - 1ms/step\n",
      "Epoch 26/50\n",
      "29/29 - 0s - loss: 0.1040 - accuracy: 0.9674 - 30ms/epoch - 1ms/step\n",
      "Epoch 27/50\n",
      "29/29 - 0s - loss: 0.1013 - accuracy: 0.9663 - 28ms/epoch - 975us/step\n",
      "Epoch 28/50\n",
      "29/29 - 0s - loss: 0.0985 - accuracy: 0.9674 - 26ms/epoch - 906us/step\n",
      "Epoch 29/50\n",
      "29/29 - 0s - loss: 0.0908 - accuracy: 0.9728 - 25ms/epoch - 872us/step\n",
      "Epoch 30/50\n",
      "29/29 - 0s - loss: 0.0865 - accuracy: 0.9717 - 35ms/epoch - 1ms/step\n",
      "Epoch 31/50\n",
      "29/29 - 0s - loss: 0.0824 - accuracy: 0.9728 - 30ms/epoch - 1ms/step\n",
      "Epoch 32/50\n",
      "29/29 - 0s - loss: 0.0781 - accuracy: 0.9771 - 27ms/epoch - 924us/step\n",
      "Epoch 33/50\n",
      "29/29 - 0s - loss: 0.0766 - accuracy: 0.9739 - 30ms/epoch - 1ms/step\n",
      "Epoch 34/50\n",
      "29/29 - 0s - loss: 0.0734 - accuracy: 0.9793 - 30ms/epoch - 1ms/step\n",
      "Epoch 35/50\n",
      "29/29 - 0s - loss: 0.0698 - accuracy: 0.9782 - 29ms/epoch - 992us/step\n",
      "Epoch 36/50\n",
      "29/29 - 0s - loss: 0.0643 - accuracy: 0.9793 - 30ms/epoch - 1ms/step\n",
      "Epoch 37/50\n",
      "29/29 - 0s - loss: 0.0623 - accuracy: 0.9815 - 28ms/epoch - 958us/step\n",
      "Epoch 38/50\n",
      "29/29 - 0s - loss: 0.0664 - accuracy: 0.9793 - 29ms/epoch - 1ms/step\n",
      "Epoch 39/50\n",
      "29/29 - 0s - loss: 0.0662 - accuracy: 0.9761 - 26ms/epoch - 906us/step\n",
      "Epoch 40/50\n",
      "29/29 - 0s - loss: 0.0589 - accuracy: 0.9826 - 28ms/epoch - 975us/step\n",
      "Epoch 41/50\n",
      "29/29 - 0s - loss: 0.0529 - accuracy: 0.9859 - 30ms/epoch - 1ms/step\n",
      "Epoch 42/50\n",
      "29/29 - 0s - loss: 0.0512 - accuracy: 0.9869 - 27ms/epoch - 941us/step\n",
      "Epoch 43/50\n",
      "29/29 - 0s - loss: 0.0496 - accuracy: 0.9837 - 34ms/epoch - 1ms/step\n",
      "Epoch 44/50\n",
      "29/29 - 0s - loss: 0.0488 - accuracy: 0.9859 - 47ms/epoch - 2ms/step\n",
      "Epoch 45/50\n",
      "29/29 - 0s - loss: 0.0500 - accuracy: 0.9826 - 46ms/epoch - 2ms/step\n",
      "Epoch 46/50\n",
      "29/29 - 0s - loss: 0.0440 - accuracy: 0.9913 - 45ms/epoch - 2ms/step\n",
      "Epoch 47/50\n",
      "29/29 - 0s - loss: 0.0426 - accuracy: 0.9880 - 44ms/epoch - 2ms/step\n",
      "Epoch 48/50\n",
      "29/29 - 0s - loss: 0.0409 - accuracy: 0.9891 - 41ms/epoch - 1ms/step\n",
      "Epoch 49/50\n",
      "29/29 - 0s - loss: 0.0381 - accuracy: 0.9902 - 27ms/epoch - 941us/step\n"
     ]
    },
    {
     "name": "stdout",
     "output_type": "stream",
     "text": [
      "Epoch 50/50\n",
      "29/29 - 0s - loss: 0.0381 - accuracy: 0.9913 - 25ms/epoch - 872us/step\n",
      "8/8 - 0s - loss: 0.0903 - accuracy: 0.9609 - 114ms/epoch - 14ms/step\n",
      "Epoch 1/50\n",
      "29/29 - 1s - loss: 0.6889 - accuracy: 0.5076 - 562ms/epoch - 19ms/step\n",
      "Epoch 2/50\n",
      "29/29 - 0s - loss: 0.6368 - accuracy: 0.5891 - 34ms/epoch - 1ms/step\n",
      "Epoch 3/50\n",
      "29/29 - 0s - loss: 0.5824 - accuracy: 0.6804 - 29ms/epoch - 992us/step\n",
      "Epoch 4/50\n",
      "29/29 - 0s - loss: 0.5244 - accuracy: 0.7837 - 34ms/epoch - 1ms/step\n",
      "Epoch 5/50\n",
      "29/29 - 0s - loss: 0.4784 - accuracy: 0.8359 - 28ms/epoch - 958us/step\n",
      "Epoch 6/50\n",
      "29/29 - 0s - loss: 0.4481 - accuracy: 0.8717 - 26ms/epoch - 889us/step\n",
      "Epoch 7/50\n",
      "29/29 - 0s - loss: 0.4258 - accuracy: 0.8913 - 30ms/epoch - 1ms/step\n",
      "Epoch 8/50\n",
      "29/29 - 0s - loss: 0.4069 - accuracy: 0.9098 - 28ms/epoch - 958us/step\n",
      "Epoch 9/50\n",
      "29/29 - 0s - loss: 0.3906 - accuracy: 0.9141 - 28ms/epoch - 958us/step\n",
      "Epoch 10/50\n",
      "29/29 - 0s - loss: 0.3754 - accuracy: 0.9293 - 27ms/epoch - 941us/step\n",
      "Epoch 11/50\n",
      "29/29 - 0s - loss: 0.3635 - accuracy: 0.9315 - 28ms/epoch - 975us/step\n",
      "Epoch 12/50\n",
      "29/29 - 0s - loss: 0.3493 - accuracy: 0.9380 - 29ms/epoch - 992us/step\n",
      "Epoch 13/50\n",
      "29/29 - 0s - loss: 0.3385 - accuracy: 0.9489 - 29ms/epoch - 992us/step\n",
      "Epoch 14/50\n",
      "29/29 - 0s - loss: 0.3280 - accuracy: 0.9467 - 30ms/epoch - 1ms/step\n",
      "Epoch 15/50\n",
      "29/29 - 0s - loss: 0.3190 - accuracy: 0.9543 - 31ms/epoch - 1ms/step\n",
      "Epoch 16/50\n",
      "29/29 - 0s - loss: 0.3092 - accuracy: 0.9620 - 31ms/epoch - 1ms/step\n",
      "Epoch 17/50\n",
      "29/29 - 0s - loss: 0.3002 - accuracy: 0.9641 - 29ms/epoch - 1ms/step\n",
      "Epoch 18/50\n",
      "29/29 - 0s - loss: 0.2914 - accuracy: 0.9641 - 49ms/epoch - 2ms/step\n",
      "Epoch 19/50\n",
      "29/29 - 0s - loss: 0.2844 - accuracy: 0.9696 - 26ms/epoch - 906us/step\n",
      "Epoch 20/50\n",
      "29/29 - 0s - loss: 0.2769 - accuracy: 0.9685 - 30ms/epoch - 1ms/step\n",
      "Epoch 21/50\n",
      "29/29 - 0s - loss: 0.2702 - accuracy: 0.9685 - 29ms/epoch - 1ms/step\n",
      "Epoch 22/50\n",
      "29/29 - 0s - loss: 0.2635 - accuracy: 0.9707 - 38ms/epoch - 1ms/step\n",
      "Epoch 23/50\n",
      "29/29 - 0s - loss: 0.2575 - accuracy: 0.9728 - 30ms/epoch - 1ms/step\n",
      "Epoch 24/50\n",
      "29/29 - 0s - loss: 0.2494 - accuracy: 0.9761 - 28ms/epoch - 975us/step\n",
      "Epoch 25/50\n",
      "29/29 - 0s - loss: 0.2449 - accuracy: 0.9739 - 40ms/epoch - 1ms/step\n",
      "Epoch 26/50\n",
      "29/29 - 0s - loss: 0.2407 - accuracy: 0.9772 - 33ms/epoch - 1ms/step\n",
      "Epoch 27/50\n",
      "29/29 - 0s - loss: 0.2332 - accuracy: 0.9772 - 31ms/epoch - 1ms/step\n",
      "Epoch 28/50\n",
      "29/29 - 0s - loss: 0.2260 - accuracy: 0.9815 - 33ms/epoch - 1ms/step\n",
      "Epoch 29/50\n",
      "29/29 - 0s - loss: 0.2212 - accuracy: 0.9783 - 37ms/epoch - 1ms/step\n",
      "Epoch 30/50\n",
      "29/29 - 0s - loss: 0.2167 - accuracy: 0.9793 - 30ms/epoch - 1ms/step\n",
      "Epoch 31/50\n",
      "29/29 - 0s - loss: 0.2104 - accuracy: 0.9815 - 30ms/epoch - 1ms/step\n",
      "Epoch 32/50\n",
      "29/29 - 0s - loss: 0.2057 - accuracy: 0.9859 - 28ms/epoch - 975us/step\n",
      "Epoch 33/50\n",
      "29/29 - 0s - loss: 0.2022 - accuracy: 0.9848 - 29ms/epoch - 992us/step\n",
      "Epoch 34/50\n",
      "29/29 - 0s - loss: 0.1970 - accuracy: 0.9837 - 26ms/epoch - 889us/step\n",
      "Epoch 35/50\n",
      "29/29 - 0s - loss: 0.1926 - accuracy: 0.9870 - 28ms/epoch - 975us/step\n",
      "Epoch 36/50\n",
      "29/29 - 0s - loss: 0.1879 - accuracy: 0.9880 - 31ms/epoch - 1ms/step\n",
      "Epoch 37/50\n",
      "29/29 - 0s - loss: 0.1839 - accuracy: 0.9880 - 27ms/epoch - 924us/step\n",
      "Epoch 38/50\n",
      "29/29 - 0s - loss: 0.1802 - accuracy: 0.9880 - 29ms/epoch - 992us/step\n",
      "Epoch 39/50\n",
      "29/29 - 0s - loss: 0.1762 - accuracy: 0.9902 - 28ms/epoch - 958us/step\n",
      "Epoch 40/50\n",
      "29/29 - 0s - loss: 0.1721 - accuracy: 0.9891 - 29ms/epoch - 1ms/step\n",
      "Epoch 41/50\n",
      "29/29 - 0s - loss: 0.1679 - accuracy: 0.9924 - 30ms/epoch - 1ms/step\n",
      "Epoch 42/50\n",
      "29/29 - 0s - loss: 0.1626 - accuracy: 0.9924 - 29ms/epoch - 992us/step\n",
      "Epoch 43/50\n",
      "29/29 - 0s - loss: 0.1596 - accuracy: 0.9902 - 29ms/epoch - 1ms/step\n",
      "Epoch 44/50\n",
      "29/29 - 0s - loss: 0.1546 - accuracy: 0.9913 - 31ms/epoch - 1ms/step\n",
      "Epoch 45/50\n",
      "29/29 - 0s - loss: 0.1501 - accuracy: 0.9946 - 30ms/epoch - 1ms/step\n",
      "Epoch 46/50\n",
      "29/29 - 0s - loss: 0.1481 - accuracy: 0.9924 - 51ms/epoch - 2ms/step\n",
      "Epoch 47/50\n",
      "29/29 - 0s - loss: 0.1449 - accuracy: 0.9967 - 26ms/epoch - 907us/step\n",
      "Epoch 48/50\n",
      "29/29 - 0s - loss: 0.1421 - accuracy: 0.9946 - 28ms/epoch - 958us/step\n",
      "Epoch 49/50\n",
      "29/29 - 0s - loss: 0.1365 - accuracy: 0.9967 - 36ms/epoch - 1ms/step\n",
      "Epoch 50/50\n",
      "29/29 - 0s - loss: 0.1335 - accuracy: 0.9967 - 29ms/epoch - 1ms/step\n",
      "8/8 - 0s - loss: 0.2196 - accuracy: 0.9345 - 113ms/epoch - 14ms/step\n"
     ]
    },
    {
     "data": {
      "text/plain": [
       "array([0.95652175, 0.94347829, 0.95652175, 0.96086955, 0.93449783])"
      ]
     },
     "execution_count": 28,
     "metadata": {},
     "output_type": "execute_result"
    }
   ],
   "source": [
    "cross_val_score(keras_model, X_pure_train, y_pure_train)"
   ]
  },
  {
   "cell_type": "markdown",
   "metadata": {},
   "source": [
    "## Regularization"
   ]
  },
  {
   "cell_type": "markdown",
   "metadata": {},
   "source": [
    "Does regularization make sense in the context of neural networks? <br/>\n",
    "\n",
    "Yes! We still have all of the salient ingredients: a loss function, overfitting vs. underfitting, and coefficients (weights) that could get too large.\n",
    "\n",
    "But there are now a few different flavors besides L1 and L2 regularization. (Note that L1 regularization is not common in the context of  neural networks.)\n",
    "\n",
    "We'll add a few more layers to give regularization a better chance of making a difference!"
   ]
  },
  {
   "cell_type": "code",
   "execution_count": 29,
   "metadata": {},
   "outputs": [
    {
     "data": {
      "image/png": "[encoded data removed]",
      "text/plain": [
       "<Figure size 720x360 with 2 Axes>"
      ]
     },
     "metadata": {
      "needs_background": "light"
     },
     "output_type": "display_data"
    }
   ],
   "source": [
    "model = Sequential()\n",
    "model.add(Dense(30, activation='relu', input_dim=64))\n",
    "\n",
    "# We can add L2 (or L1) regularization right into\n",
    "# the layer with the kernel_regularizer parameter.\n",
    "\n",
    "model.add(Dense(20, activation='relu',\n",
    "                kernel_regularizer=l2(l2=0.05)))\n",
    "\n",
    "# Note that there is also a bias_regularizer,\n",
    "# but this tends to have less effect.\n",
    "\n",
    "model.add(Dense(12, activation='relu'))\n",
    "model.add(Dense(12, activation='relu'))\n",
    "model.add(Dense(12, activation='relu'))\n",
    "model.add(Dense(8, activation='relu'))\n",
    "model.add(Dense(4, activation='relu'))\n",
    "model.add(Dense(1, activation ='sigmoid'))\n",
    "\n",
    "model.compile(optimizer='adam',\n",
    "              loss='binary_crossentropy',\n",
    "              metrics=['accuracy'])\n",
    "\n",
    "results = model.fit(X_pure_train, y_pure_train, epochs=20, batch_size=32,\n",
    "                    verbose=0, validation_data=(X_val, y_val))\n",
    "\n",
    "train_loss = results.history['loss']\n",
    "train_acc = results.history['accuracy']\n",
    "val_loss = results.history['val_loss']\n",
    "val_acc = results.history['val_accuracy']\n",
    "\n",
    "\n",
    "fig, (ax1, ax2) = plt.subplots(1, 2, figsize=(10, 5))\n",
    "sns.lineplot(x=results.epoch, y=train_loss, ax=ax1, label='train_loss')\n",
    "sns.lineplot(x=results.epoch, y=train_acc, ax=ax2, label='train_accuracy')\n",
    "\n",
    "sns.lineplot(x=results.epoch, y=val_loss, ax=ax1, label='val_loss')\n",
    "sns.lineplot(x=results.epoch, y=val_acc, ax=ax2, label='val_accuracy');"
   ]
  },
  {
   "cell_type": "markdown",
   "metadata": {},
   "source": [
    "Adding L2 to multiple layers:"
   ]
  },
  {
   "cell_type": "code",
   "execution_count": 30,
   "metadata": {},
   "outputs": [
    {
     "data": {
      "image/png": "[encoded data removed]",
      "text/plain": [
       "<Figure size 720x360 with 2 Axes>"
      ]
     },
     "metadata": {
      "needs_background": "light"
     },
     "output_type": "display_data"
    }
   ],
   "source": [
    "model = Sequential()\n",
    "model.add(Dense(30, activation='relu',\n",
    "                input_dim=64))\n",
    "model.add(Dense(20, activation='relu',\n",
    "                kernel_regularizer=l2(l2=0.01)))\n",
    "\n",
    "model.add(Dense(12, activation='relu',\n",
    "                kernel_regularizer=l2(l2=0.01)))\n",
    "model.add(Dense(12, activation='relu',\n",
    "                kernel_regularizer=l2(l2=0.01)))\n",
    "model.add(Dense(12, activation='relu',\n",
    "                kernel_regularizer=l2(l2=0.01)))\n",
    "model.add(Dense(8, activation='relu',\n",
    "                kernel_regularizer=l2(l2=0.01)))\n",
    "model.add(Dense(4, activation='relu',\n",
    "                kernel_regularizer=l2(l2=0.01)))\n",
    "model.add(Dense(1, activation='sigmoid'))\n",
    "\n",
    "model.compile(optimizer='adam',\n",
    "              loss='binary_crossentropy',\n",
    "              metrics=['accuracy'])\n",
    "\n",
    "results = model.fit(X_pure_train, y_pure_train, epochs=20, batch_size=32,\n",
    "                    verbose=0, validation_data=(X_val, y_val))\n",
    "\n",
    "train_loss = results.history['loss']\n",
    "train_acc = results.history['accuracy']\n",
    "val_loss = results.history['val_loss']\n",
    "val_acc = results.history['val_accuracy']\n",
    "\n",
    "\n",
    "fig, (ax1, ax2) = plt.subplots(1, 2, figsize=(10, 5))\n",
    "sns.lineplot(x=results.epoch, y=train_loss, ax=ax1, label='train_loss')\n",
    "sns.lineplot(x=results.epoch, y=train_acc, ax=ax2, label='train_accuracy')\n",
    "\n",
    "sns.lineplot(x=results.epoch, y=val_loss, ax=ax1, label='val_loss')\n",
    "sns.lineplot(x=results.epoch, y=val_acc, ax=ax2, label='val_accuracy');"
   ]
  },
  {
   "cell_type": "markdown",
   "metadata": {},
   "source": [
    "### Dropout\n",
    "\n",
    "We can also specify a dropout layer in keras, which randomly shuts off different nodes during training. This can help to prevent overfitting.\n",
    "\n",
    "![drop_out](img/drop_out.png)"
   ]
  },
  {
   "cell_type": "markdown",
   "metadata": {},
   "source": [
    "### Exercise\n",
    "\n",
    "To add dropout to a `keras` network, simply add it as though it were a layer. It will apply to the immediately preceding layer.\n",
    "\n",
    "Add Dropout to one or more layers below."
   ]
  },
  {
   "cell_type": "code",
   "execution_count": 32,
   "metadata": {},
   "outputs": [
    {
     "data": {
      "image/png": "[encoded data removed]",
      "text/plain": [
       "<Figure size 720x360 with 2 Axes>"
      ]
     },
     "metadata": {
      "needs_background": "light"
     },
     "output_type": "display_data"
    }
   ],
   "source": [
    "model = Sequential()\n",
    "model.add(Dense(30, activation='relu', input_dim=64))\n",
    "model.add(Dense(20, activation='relu'))\n",
    "model.add(Dropout(0.5))\n",
    "model.add(Dense(12, activation='relu'))\n",
    "model.add(Dense(12, activation='relu'))\n",
    "model.add(Dense(12, activation='relu'))\n",
    "model.add(Dense(8, activation='relu'))\n",
    "model.add(Dense(4, activation='relu'))\n",
    "model.add(Dense(1, activation ='sigmoid'))\n",
    "\n",
    "model.compile(optimizer='adam',\n",
    "              loss='binary_crossentropy',\n",
    "              metrics=['accuracy'])\n",
    "\n",
    "# Define the EarlyStopping object\n",
    "# early_stop = EarlyStopping(monitor='val_loss', min_delta=1e-8,\n",
    "#                            verbose=1,\n",
    "#                            mode='min',\n",
    "#                            patience=5)\n",
    "\n",
    "results = model.fit(X_pure_train, y_pure_train, epochs=50,\n",
    "                    batch_size= 32, verbose=0,\n",
    "                    validation_data=(X_val, y_val))\n",
    "\n",
    "train_loss = results.history['loss']\n",
    "train_acc = results.history['accuracy']\n",
    "val_loss = results.history['val_loss']\n",
    "val_acc = results.history['val_accuracy']\n",
    "\n",
    "\n",
    "fig, (ax1, ax2) = plt.subplots(1, 2, figsize=(10, 5))\n",
    "sns.lineplot(x=results.epoch, y=train_loss, ax=ax1, label='train_loss')\n",
    "sns.lineplot(x=results.epoch, y=train_acc, ax=ax2, label='train_accuracy')\n",
    "\n",
    "sns.lineplot(x=results.epoch, y=val_loss, ax=ax1, label='val_loss')\n",
    "sns.lineplot(x=results.epoch, y=val_acc, ax=ax2, label='val_accuracy');"
   ]
  },
  {
   "cell_type": "code",
   "execution_count": 33,
   "metadata": {},
   "outputs": [
    {
     "data": {
      "text/plain": [
       "0.9861111044883728"
      ]
     },
     "execution_count": 33,
     "metadata": {},
     "output_type": "execute_result"
    }
   ],
   "source": [
    "results.history['val_accuracy'][-1]"
   ]
  },
  {
   "cell_type": "markdown",
   "metadata": {},
   "source": [
    "### Early Stopping"
   ]
  },
  {
   "cell_type": "markdown",
   "metadata": {},
   "source": [
    "We can also tell our neural network to stop once it stops realizing any gain.\n",
    "\n",
    "Here we tell it to stop once the a very small positive change in the validation loss occurs:"
   ]
  },
  {
   "cell_type": "code",
   "execution_count": 36,
   "metadata": {},
   "outputs": [
    {
     "name": "stdout",
     "output_type": "stream",
     "text": [
      "Epoch 2: early stopping\n"
     ]
    },
    {
     "data": {
      "image/png": "[encoded data removed]",
      "text/plain": [
       "<Figure size 720x360 with 2 Axes>"
      ]
     },
     "metadata": {
      "needs_background": "light"
     },
     "output_type": "display_data"
    }
   ],
   "source": [
    "model = Sequential()\n",
    "model.add(Dense(30, activation='relu', input_dim=64))\n",
    "model.add(Dense(20, activation='relu'))\n",
    "model.add(Dropout(0.5))\n",
    "model.add(Dense(12, activation='relu'))\n",
    "model.add(Dense(12, activation='relu'))\n",
    "model.add(Dense(12, activation='relu'))\n",
    "model.add(Dense(8, activation='relu'))\n",
    "model.add(Dense(4, activation='relu'))\n",
    "model.add(Dense(1, activation ='sigmoid'))\n",
    "\n",
    "model.compile(optimizer='adam',\n",
    "              loss='binary_crossentropy',\n",
    "              metrics=['accuracy'])\n",
    "\n",
    "# Define the EarlyStopping object\n",
    "early_stop = EarlyStopping(monitor='val_loss', min_delta=1e-8,\n",
    "                           verbose=1,\n",
    "                           mode='min')\n",
    "\n",
    "# Place this in a list as the value of the `callbacks` parameter\n",
    "# in the `.fit()` method.\n",
    "results = model.fit(X_pure_train, y_pure_train,\n",
    "                    epochs=20, batch_size=32,\n",
    "                    verbose=0, validation_data=(X_val, y_val),\n",
    "                    callbacks=[early_stop])\n",
    "\n",
    "train_loss = results.history['loss']\n",
    "train_acc = results.history['accuracy']\n",
    "val_loss = results.history['val_loss']\n",
    "val_acc = results.history['val_accuracy']\n",
    "\n",
    "\n",
    "fig, (ax1, ax2) = plt.subplots(1, 2, figsize=(10, 5))\n",
    "sns.lineplot(x=results.epoch, y=train_loss, ax=ax1, label='train_loss')\n",
    "sns.lineplot(x=results.epoch, y=train_acc, ax=ax2, label='train_accuracy')\n",
    "\n",
    "sns.lineplot(x=results.epoch, y=val_loss, ax=ax1, label='val_loss')\n",
    "sns.lineplot(x=results.epoch, y=val_acc, ax=ax2, label='val_accuracy');"
   ]
  },
  {
   "cell_type": "markdown",
   "metadata": {},
   "source": [
    "### Exercise\n",
    "\n",
    "That probably stopped too early. We can specify the number of epochs in which it doesn't see decrease in the loss with the `patience` parameter. Modify the code below to include an Early Stop with a patience of 5 epochs."
   ]
  },
  {
   "cell_type": "code",
   "execution_count": 37,
   "metadata": {},
   "outputs": [
    {
     "name": "stdout",
     "output_type": "stream",
     "text": [
      "Epoch 45: early stopping\n"
     ]
    },
    {
     "data": {
      "image/png": "[encoded data removed]",
      "text/plain": [
       "<Figure size 720x360 with 2 Axes>"
      ]
     },
     "metadata": {
      "needs_background": "light"
     },
     "output_type": "display_data"
    }
   ],
   "source": [
    "model = Sequential()\n",
    "model.add(Dense(30, activation='relu', input_dim=64))\n",
    "model.add(Dense(20, activation='relu'))\n",
    "model.add(Dropout(0.5))\n",
    "model.add(Dense(12, activation='relu'))\n",
    "model.add(Dense(12, activation='relu'))\n",
    "model.add(Dense(12, activation='relu'))\n",
    "model.add(Dense(8, activation='relu'))\n",
    "model.add(Dense(4, activation='relu'))\n",
    "model.add(Dense(1, activation ='sigmoid'))\n",
    "\n",
    "model.compile(optimizer='adam',\n",
    "              loss='binary_crossentropy',\n",
    "              metrics=['accuracy'])\n",
    "\n",
    "# Define the EarlyStopping object\n",
    "early_stop = EarlyStopping(monitor='val_loss', min_delta=1e-8,\n",
    "                           verbose=1,\n",
    "                           mode='min',\n",
    "                           patience=5)\n",
    "\n",
    "# Place this in a list as the value of the `callbacks` parameter\n",
    "# in the `.fit()` method.\n",
    "results = model.fit(X_pure_train, y_pure_train,\n",
    "                    epochs=50, batch_size= 32,\n",
    "                    verbose=0, validation_data=(X_val, y_val),\n",
    "                    callbacks=[early_stop])\n",
    "\n",
    "train_loss = results.history['loss']\n",
    "train_acc = results.history['accuracy']\n",
    "val_loss = results.history['val_loss']\n",
    "val_acc = results.history['val_accuracy']\n",
    "\n",
    "\n",
    "fig, (ax1, ax2) = plt.subplots(1, 2, figsize=(10, 5))\n",
    "sns.lineplot(x=results.epoch, y=train_loss, ax=ax1, label='train_loss')\n",
    "sns.lineplot(x=results.epoch, y=train_acc, ax=ax2, label='train_accuracy')\n",
    "\n",
    "sns.lineplot(x=results.epoch, y=val_loss, ax=ax1, label='val_loss')\n",
    "sns.lineplot(x=results.epoch, y=val_acc, ax=ax2, label='val_accuracy');"
   ]
  },
  {
   "cell_type": "code",
   "execution_count": 38,
   "metadata": {},
   "outputs": [
    {
     "data": {
      "text/plain": [
       "0.9756944179534912"
      ]
     },
     "execution_count": 38,
     "metadata": {},
     "output_type": "execute_result"
    }
   ],
   "source": [
    "results.history['val_accuracy'][-1]"
   ]
  },
  {
   "cell_type": "markdown",
   "metadata": {},
   "source": [
    "## Multiclass Classification and Softmax"
   ]
  },
  {
   "cell_type": "markdown",
   "metadata": {},
   "source": [
    "Now let's return to the problem of predicting digits 0 through 9."
   ]
  },
  {
   "cell_type": "code",
   "execution_count": 39,
   "metadata": {},
   "outputs": [],
   "source": [
    "digits = load_digits()\n",
    "X = digits.data\n",
    "y = digits.target"
   ]
  },
  {
   "cell_type": "code",
   "execution_count": 40,
   "metadata": {},
   "outputs": [],
   "source": [
    "X_train, X_test, y_train, y_test = train_test_split(X, y,\n",
    "                                                    random_state=42,\n",
    "                                                    test_size=0.2)\n",
    "X_pure_train, X_val, y_pure_train, y_val =\\\n",
    "    train_test_split(X_train, y_train,\n",
    "                     random_state=42, test_size=0.2)\n",
    "X_pure_train, X_val, X_test = X_pure_train/16, X_val/16, X_test/16"
   ]
  },
  {
   "cell_type": "markdown",
   "metadata": {},
   "source": [
    "For a multiclass output, our neural net expects our target to be in a certain form."
   ]
  },
  {
   "cell_type": "code",
   "execution_count": 41,
   "metadata": {},
   "outputs": [],
   "source": [
    "ohe = OneHotEncoder(sparse=False)\n",
    "y_pure_train = ohe.fit_transform(y_pure_train.reshape(-1,1))\n",
    "y_val = ohe.transform(y_val.reshape(-1,1))\n",
    "y_test = ohe.transform(y_test.reshape(-1,1))"
   ]
  },
  {
   "cell_type": "code",
   "execution_count": 42,
   "metadata": {},
   "outputs": [
    {
     "data": {
      "text/plain": [
       "array([[0., 0., 0., ..., 0., 0., 0.],\n",
       "       [0., 0., 0., ..., 0., 0., 1.],\n",
       "       [0., 0., 0., ..., 0., 0., 0.],\n",
       "       ...,\n",
       "       [0., 0., 0., ..., 0., 1., 0.],\n",
       "       [0., 0., 0., ..., 0., 0., 0.],\n",
       "       [0., 0., 0., ..., 0., 0., 0.]])"
      ]
     },
     "execution_count": 42,
     "metadata": {},
     "output_type": "execute_result"
    }
   ],
   "source": [
    "y_test"
   ]
  },
  {
   "cell_type": "code",
   "execution_count": 43,
   "metadata": {},
   "outputs": [
    {
     "name": "stdout",
     "output_type": "stream",
     "text": [
      "Epoch 1/50\n",
      "115/115 [==============================] - 1s 3ms/step - loss: 2.2250 - accuracy: 0.1784 - val_loss: 2.1327 - val_accuracy: 0.2951\n",
      "Epoch 2/50\n",
      "115/115 [==============================] - 0s 1ms/step - loss: 1.9428 - accuracy: 0.3925 - val_loss: 1.7992 - val_accuracy: 0.4167\n",
      "Epoch 3/50\n",
      "115/115 [==============================] - 0s 1ms/step - loss: 1.5506 - accuracy: 0.5779 - val_loss: 1.3989 - val_accuracy: 0.5694\n",
      "Epoch 4/50\n",
      "115/115 [==============================] - 0s 1ms/step - loss: 1.1758 - accuracy: 0.6710 - val_loss: 1.0572 - val_accuracy: 0.6771\n",
      "Epoch 5/50\n",
      "115/115 [==============================] - 0s 1ms/step - loss: 0.8745 - accuracy: 0.7746 - val_loss: 0.8038 - val_accuracy: 0.7812\n",
      "Epoch 6/50\n",
      "115/115 [==============================] - 0s 1ms/step - loss: 0.6710 - accuracy: 0.8364 - val_loss: 0.6524 - val_accuracy: 0.8194\n",
      "Epoch 7/50\n",
      "115/115 [==============================] - 0s 1ms/step - loss: 0.5493 - accuracy: 0.8703 - val_loss: 0.5518 - val_accuracy: 0.8438\n",
      "Epoch 8/50\n",
      "115/115 [==============================] - 0s 1ms/step - loss: 0.4735 - accuracy: 0.8877 - val_loss: 0.4849 - val_accuracy: 0.8542\n",
      "Epoch 9/50\n",
      "115/115 [==============================] - 0s 1ms/step - loss: 0.4236 - accuracy: 0.8851 - val_loss: 0.4653 - val_accuracy: 0.8438\n",
      "Epoch 10/50\n",
      "115/115 [==============================] - 0s 1ms/step - loss: 0.3935 - accuracy: 0.8912 - val_loss: 0.4283 - val_accuracy: 0.8507\n",
      "Epoch 11/50\n",
      "115/115 [==============================] - 0s 1ms/step - loss: 0.3587 - accuracy: 0.8973 - val_loss: 0.4049 - val_accuracy: 0.8507\n",
      "Epoch 12/50\n",
      "115/115 [==============================] - 0s 2ms/step - loss: 0.3326 - accuracy: 0.9034 - val_loss: 0.3822 - val_accuracy: 0.8750\n",
      "Epoch 13/50\n",
      "115/115 [==============================] - 0s 2ms/step - loss: 0.3221 - accuracy: 0.9017 - val_loss: 0.3881 - val_accuracy: 0.8576\n",
      "Epoch 14/50\n",
      "115/115 [==============================] - 0s 2ms/step - loss: 0.2985 - accuracy: 0.9147 - val_loss: 0.3429 - val_accuracy: 0.8819\n",
      "Epoch 15/50\n",
      "115/115 [==============================] - 0s 2ms/step - loss: 0.2819 - accuracy: 0.9164 - val_loss: 0.3295 - val_accuracy: 0.8854\n",
      "Epoch 16/50\n",
      "115/115 [==============================] - 0s 2ms/step - loss: 0.2719 - accuracy: 0.9252 - val_loss: 0.3288 - val_accuracy: 0.9028\n",
      "Epoch 17/50\n",
      "115/115 [==============================] - 0s 2ms/step - loss: 0.2610 - accuracy: 0.9208 - val_loss: 0.3155 - val_accuracy: 0.8889\n",
      "Epoch 18/50\n",
      "115/115 [==============================] - 0s 1ms/step - loss: 0.2432 - accuracy: 0.9304 - val_loss: 0.3035 - val_accuracy: 0.8854\n",
      "Epoch 19/50\n",
      "115/115 [==============================] - 0s 1ms/step - loss: 0.2387 - accuracy: 0.9286 - val_loss: 0.3066 - val_accuracy: 0.8889\n",
      "Epoch 20/50\n",
      "115/115 [==============================] - 0s 2ms/step - loss: 0.2320 - accuracy: 0.9321 - val_loss: 0.2847 - val_accuracy: 0.8958\n",
      "Epoch 21/50\n",
      "115/115 [==============================] - 0s 1ms/step - loss: 0.2218 - accuracy: 0.9312 - val_loss: 0.2935 - val_accuracy: 0.8958\n",
      "Epoch 22/50\n",
      "115/115 [==============================] - 0s 1ms/step - loss: 0.2133 - accuracy: 0.9382 - val_loss: 0.2763 - val_accuracy: 0.8958\n",
      "Epoch 23/50\n",
      "115/115 [==============================] - 0s 2ms/step - loss: 0.2059 - accuracy: 0.9373 - val_loss: 0.2785 - val_accuracy: 0.9028\n",
      "Epoch 24/50\n",
      "115/115 [==============================] - 0s 1ms/step - loss: 0.1987 - accuracy: 0.9426 - val_loss: 0.2595 - val_accuracy: 0.9028\n",
      "Epoch 25/50\n",
      "115/115 [==============================] - 0s 2ms/step - loss: 0.1930 - accuracy: 0.9426 - val_loss: 0.2516 - val_accuracy: 0.8958\n",
      "Epoch 26/50\n",
      "115/115 [==============================] - 0s 1ms/step - loss: 0.1847 - accuracy: 0.9469 - val_loss: 0.2506 - val_accuracy: 0.9062\n",
      "Epoch 27/50\n",
      "115/115 [==============================] - 0s 1ms/step - loss: 0.1784 - accuracy: 0.9460 - val_loss: 0.2474 - val_accuracy: 0.8993\n",
      "Epoch 28/50\n",
      "115/115 [==============================] - 0s 1ms/step - loss: 0.1750 - accuracy: 0.9547 - val_loss: 0.2472 - val_accuracy: 0.8958\n",
      "Epoch 29/50\n",
      "115/115 [==============================] - 0s 1ms/step - loss: 0.1694 - accuracy: 0.9530 - val_loss: 0.2299 - val_accuracy: 0.8993\n",
      "Epoch 30/50\n",
      "115/115 [==============================] - 0s 1ms/step - loss: 0.1650 - accuracy: 0.9521 - val_loss: 0.2421 - val_accuracy: 0.9028\n",
      "Epoch 31/50\n",
      "115/115 [==============================] - 0s 1ms/step - loss: 0.1577 - accuracy: 0.9591 - val_loss: 0.2324 - val_accuracy: 0.9062\n",
      "Epoch 32/50\n",
      "115/115 [==============================] - 0s 1ms/step - loss: 0.1567 - accuracy: 0.9513 - val_loss: 0.2206 - val_accuracy: 0.9132\n",
      "Epoch 33/50\n",
      "115/115 [==============================] - 0s 1ms/step - loss: 0.1478 - accuracy: 0.9600 - val_loss: 0.2273 - val_accuracy: 0.9097\n",
      "Epoch 34/50\n",
      "115/115 [==============================] - 0s 1ms/step - loss: 0.1449 - accuracy: 0.9608 - val_loss: 0.2272 - val_accuracy: 0.9097\n",
      "Epoch 35/50\n",
      "115/115 [==============================] - 0s 1ms/step - loss: 0.1389 - accuracy: 0.9574 - val_loss: 0.2296 - val_accuracy: 0.9167\n",
      "Epoch 36/50\n",
      "115/115 [==============================] - 0s 1ms/step - loss: 0.1371 - accuracy: 0.9608 - val_loss: 0.2392 - val_accuracy: 0.9097\n",
      "Epoch 37/50\n",
      "115/115 [==============================] - 0s 1ms/step - loss: 0.1331 - accuracy: 0.9643 - val_loss: 0.2029 - val_accuracy: 0.9201\n",
      "Epoch 38/50\n",
      "115/115 [==============================] - 0s 1ms/step - loss: 0.1270 - accuracy: 0.9626 - val_loss: 0.2005 - val_accuracy: 0.9306\n",
      "Epoch 39/50\n",
      "115/115 [==============================] - 0s 1ms/step - loss: 0.1244 - accuracy: 0.9643 - val_loss: 0.2090 - val_accuracy: 0.9167\n",
      "Epoch 40/50\n",
      "115/115 [==============================] - 0s 1ms/step - loss: 0.1233 - accuracy: 0.9678 - val_loss: 0.2067 - val_accuracy: 0.9201\n",
      "Epoch 41/50\n",
      "115/115 [==============================] - 0s 1ms/step - loss: 0.1199 - accuracy: 0.9713 - val_loss: 0.1912 - val_accuracy: 0.9201\n",
      "Epoch 42/50\n",
      "115/115 [==============================] - 0s 1ms/step - loss: 0.1134 - accuracy: 0.9721 - val_loss: 0.1985 - val_accuracy: 0.9167\n",
      "Epoch 43/50\n",
      "115/115 [==============================] - 0s 2ms/step - loss: 0.1122 - accuracy: 0.9704 - val_loss: 0.1892 - val_accuracy: 0.9306\n",
      "Epoch 44/50\n",
      "115/115 [==============================] - 0s 1ms/step - loss: 0.1125 - accuracy: 0.9678 - val_loss: 0.1776 - val_accuracy: 0.9410\n",
      "Epoch 45/50\n",
      "115/115 [==============================] - 0s 2ms/step - loss: 0.1080 - accuracy: 0.9695 - val_loss: 0.2059 - val_accuracy: 0.9201\n",
      "Epoch 46/50\n",
      "115/115 [==============================] - 0s 1ms/step - loss: 0.1046 - accuracy: 0.9704 - val_loss: 0.1879 - val_accuracy: 0.9201\n",
      "Epoch 47/50\n",
      "115/115 [==============================] - 0s 2ms/step - loss: 0.1026 - accuracy: 0.9765 - val_loss: 0.1828 - val_accuracy: 0.9306\n",
      "Epoch 48/50\n",
      "115/115 [==============================] - 0s 2ms/step - loss: 0.0979 - accuracy: 0.9765 - val_loss: 0.1850 - val_accuracy: 0.9271\n",
      "Epoch 49/50\n",
      "115/115 [==============================] - 0s 2ms/step - loss: 0.0969 - accuracy: 0.9765 - val_loss: 0.1684 - val_accuracy: 0.9375\n",
      "Epoch 50/50\n",
      "115/115 [==============================] - 0s 2ms/step - loss: 0.0930 - accuracy: 0.9739 - val_loss: 0.1712 - val_accuracy: 0.9340\n"
     ]
    }
   ],
   "source": [
    "# Model from above, but now with ten output neurons:\n",
    "\n",
    "model = Sequential()\n",
    "model.add(Dense(12, activation='relu', input_dim=64))\n",
    "model.add(Dense(8, activation='relu'))\n",
    "model.add(Dense(10, activation='softmax'))\n",
    "\n",
    "model.compile(optimizer='adam',\n",
    "              loss='categorical_crossentropy',\n",
    "              metrics=['accuracy'])\n",
    "\n",
    "results = model.fit(X_pure_train, y_pure_train,\n",
    "                   epochs=50, batch_size=10,\n",
    "                   validation_data=(X_val, y_val))"
   ]
  },
  {
   "cell_type": "markdown",
   "metadata": {},
   "source": [
    "$$\\large \\text{Softmax}(x_{i}) = \\frac{\\exp(x_i)}{\\sum_j \\exp(x_j)}$$\n",
    "\n",
    "The sofmax function outputs a number between 0 and 1 for each of our classes.  All of the probabilities of the classes sum up to 1.\n",
    "\n",
    "The number of nodes in our output layer equals the number of categories in our dataset.\n",
    "\n",
    "We also need a new loss function: **categorical crossentropy**, which calculates a separate loss for each label and then sums the results."
   ]
  },
  {
   "cell_type": "code",
   "execution_count": 44,
   "metadata": {},
   "outputs": [],
   "source": [
    "history = results.history\n",
    "training_loss = history['loss']\n",
    "val_loss = history['val_loss']\n",
    "training_accuracy = history['accuracy']\n",
    "val_accuracy = history['val_accuracy']"
   ]
  },
  {
   "cell_type": "code",
   "execution_count": 45,
   "metadata": {},
   "outputs": [
    {
     "data": {
      "image/png": "[encoded data removed]",
      "text/plain": [
       "<Figure size 1080x360 with 2 Axes>"
      ]
     },
     "metadata": {
      "needs_background": "light"
     },
     "output_type": "display_data"
    }
   ],
   "source": [
    "fig, (ax1,ax2) = plt.subplots(1,2,figsize=(15,5))\n",
    "\n",
    "\n",
    "sns.lineplot(x=list(range(len(training_loss))),\n",
    "             y=training_loss, color='r', label='training', ax=ax1)\n",
    "sns.lineplot(x=list(range(len(val_loss))),\n",
    "             y=val_loss, color='b', label='validation', ax=ax1)\n",
    "sns.lineplot(x=list(range(len(training_loss))),\n",
    "             y=training_accuracy, color='r', label='training',ax=ax2)\n",
    "sns.lineplot(x=list(range(len(val_loss))),\n",
    "             y=val_accuracy, color='b', label='validation',ax=ax2)\n",
    "ax1.legend();"
   ]
  },
  {
   "cell_type": "code",
   "execution_count": 46,
   "metadata": {},
   "outputs": [],
   "source": [
    "y_hat_test = np.argmax(model.predict(X_test), axis=-1)"
   ]
  },
  {
   "cell_type": "code",
   "execution_count": 47,
   "metadata": {},
   "outputs": [
    {
     "data": {
      "text/plain": [
       "array([[30,  0,  0,  0,  1,  0,  1,  1,  0,  0],\n",
       "       [ 0, 26,  1,  0,  0,  0,  0,  0,  0,  1],\n",
       "       [ 0,  3, 28,  2,  0,  0,  0,  0,  0,  0],\n",
       "       [ 0,  0,  1, 32,  0,  1,  0,  0,  0,  0],\n",
       "       [ 0,  1,  0,  0, 45,  0,  0,  0,  0,  0],\n",
       "       [ 0,  0,  0,  1,  0, 44,  1,  0,  0,  1],\n",
       "       [ 1,  0,  0,  0,  0,  0, 34,  0,  0,  0],\n",
       "       [ 0,  0,  0,  0,  0,  0,  0, 33,  0,  1],\n",
       "       [ 1,  1,  1,  0,  0,  1,  0,  0, 25,  1],\n",
       "       [ 0,  1,  0,  3,  0,  0,  0,  1,  0, 35]], dtype=int64)"
      ]
     },
     "execution_count": 47,
     "metadata": {},
     "output_type": "execute_result"
    }
   ],
   "source": [
    "y_test_restore = ohe.inverse_transform(y_test)\n",
    "confusion_matrix(y_test_restore, y_hat_test)"
   ]
  },
  {
   "cell_type": "markdown",
   "metadata": {},
   "source": [
    "Wow, look at that performance!  \n",
    "\n",
    "That is great, but remember, we were dealing with simple black and white images.  With color, our basic neural net will have less success.\n",
    "\n",
    "We will explore more advanced tools in the coming days.\n"
   ]
  },
  {
   "cell_type": "code",
   "execution_count": null,
   "metadata": {
    "colab_type": "text",
    "id": "EdZDyJfARV8l"
   },
   "outputs": [],
   "source": []
  }
 ],
 "metadata": {
  "celltoolbar": "Raw Cell Format",
  "colab": {
   "collapsed_sections": [],
   "name": "intro-to-keras.ipynb",
   "provenance": []
  },
  "kernelspec": {
   "display_name": "Python 3 (ipykernel)",
   "language": "python",
   "name": "python3"
  },
  "language_info": {
   "codemirror_mode": {
    "name": "ipython",
    "version": 3
   },
   "file_extension": ".py",
   "mimetype": "text/x-python",
   "name": "python",
   "nbconvert_exporter": "python",
   "pygments_lexer": "ipython3",
   "version": "3.9.7"
  }
 },
 "nbformat": 4,
 "nbformat_minor": 4
}
